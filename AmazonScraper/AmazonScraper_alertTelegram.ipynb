{
 "cells": [
  {
   "cell_type": "code",
   "execution_count": null,
   "id": "0713f4bd",
   "metadata": {},
   "outputs": [],
   "source": [
    "#import all library\n",
    "from selenium import webdriver\n",
    "from selenium.webdriver.common.by import By\n",
    "from selenium.webdriver.support.ui import WebDriverWait \n",
    "from selenium.webdriver.support import expected_conditions as EC\n",
    "\n",
    "from selenium import webdriver\n",
    "from selenium.webdriver.chrome.service import Service\n",
    "from selenium.webdriver.common.by import By\n",
    "from selenium.webdriver.support.ui import WebDriverWait as wait\n",
    "from selenium.webdriver.support import expected_conditions as EC\n",
    "import pandas as pd\n",
    "import time\n",
    "import time\n",
    "import schedule\n",
    "import requests\n",
    "\n"
   ]
  },
  {
   "cell_type": "code",
   "execution_count": null,
   "id": "1414ae94",
   "metadata": {},
   "outputs": [],
   "source": [
    "# assign your website to scrape , in this case amazon\n",
    "web = 'https://www.amazon.com'\n",
    "options = webdriver.ChromeOptions()\n",
    "\n",
    "driver = webdriver.Chrome()\n",
    "driver.get(web)\n",
    "\n",
    "driver.implicitly_wait(5)\n",
    "# select the keyword to Scrape\n",
    "keyword = \"wireless\"\n",
    "search = driver.find_element(By.ID, 'twotabsearchtextbox')\n",
    "search.send_keys(keyword)\n",
    "# click search button\n",
    "search_button = driver.find_element(By.ID, 'nav-search-submit-button')\n",
    "search_button.click()\n",
    "\n",
    "driver.implicitly_wait(5)"
   ]
  },
  {
   "cell_type": "code",
   "execution_count": null,
   "id": "f32345d4",
   "metadata": {},
   "outputs": [],
   "source": [
    "#we create a dataframe to collect all data scraped\n",
    "product_name = []\n",
    "product_asin = []\n",
    "product_price = []\n",
    "product_ratings = []\n",
    "product_ratings_num = []\n",
    "product_link = []\n",
    "df = pd.DataFrame(columns=['Name','price','rating','#rating' , 'link'])"
   ]
  },
  {
   "cell_type": "code",
   "execution_count": null,
   "id": "a21a15fb",
   "metadata": {},
   "outputs": [],
   "source": [
    "#this function implement the scraper function\n",
    "def scrape_page(main_df):\n",
    "    df=main_df.copy()\n",
    "    #the item are the boxes of the product\n",
    "    items = wait(driver, 10).until(EC.presence_of_all_elements_located((By.XPATH, '//div[contains(@class, \"s-result-item s-asin\")]')))\n",
    "    for item in items:\n",
    "        # find name\n",
    "        name = item.find_element(By.XPATH, './/span[@class=\"a-size-medium a-color-base a-text-normal\"]')\n",
    "        product_name.append(name.text)\n",
    "\n",
    "        # find price\n",
    "        whole_price = item.find_elements(By.XPATH, './/span[@class=\"a-price-whole\"]')\n",
    "        fraction_price = item.find_elements(By.XPATH, './/span[@class=\"a-price-fraction\"]')\n",
    "\n",
    "        if whole_price != [] and fraction_price != []:\n",
    "            price = '.'.join([whole_price[0].text, fraction_price[0].text])\n",
    "        else:\n",
    "            price = 0\n",
    "        product_price.append(price)\n",
    "\n",
    "        # find ratings box\n",
    "        ratings_box = item.find_elements(By.XPATH, './/div[@class=\"a-row a-size-small\"]/span')\n",
    "\n",
    "        # find ratings and ratings_num\n",
    "        if ratings_box != []:\n",
    "            ratings = ratings_box[0].get_attribute('aria-label')\n",
    "            ratings_num = ratings_box[1].get_attribute('aria-label')\n",
    "        else:\n",
    "            ratings, ratings_num = 0, 0\n",
    "\n",
    "        product_ratings.append(ratings)\n",
    "        product_ratings_num.append(str(ratings_num))\n",
    "\n",
    "        # find link\n",
    "        boxlinks = driver.find_elements(By.XPATH, '//a[@class=\"a-link-normal s-underline-text s-underline-link-text s-link-style a-text-normal\"]')\n",
    "        for boxlink in boxlinks:\n",
    "            link = boxlink.get_attribute('href')\n",
    "        #add a line on dataframe\n",
    "        new_row = {'Name':name.text, 'price':price, 'rating':ratings, '#rating':str(ratings_num) , 'link':link}\n",
    "        df = df.append(new_row, ignore_index=True)\n",
    "        return df\n",
    "\n"
   ]
  },
  {
   "cell_type": "code",
   "execution_count": null,
   "id": "87cb2662",
   "metadata": {},
   "outputs": [],
   "source": [
    "#we send data as message on channel on telegram\n",
    "#step:\n",
    "# 1. create bot and extract token\n",
    "# 2. add the bot to a new channel and extract the chat_id\n",
    "def send_data():\n",
    "    TOKEN = \"5532274185:AAGE8CQOwV6i6VtER1xBAfhciVv4WBDSLWA\"\n",
    "    chat_id = \"-1001774376845\"\n",
    "\n",
    "    for row in df.itertuples():\n",
    "        str_link = row.link\n",
    "        str_name = row.Name\n",
    "        str_price = row.price\n",
    "        print(\"🔴 \",str_price,\" 🔴\",\"\\n\",str_name,\"\\n\",str_link)\n",
    "        text = \"🔴 \"+str(str_price)+\" $\"+\" 🔴\"+\"%0A\"+str_name+\"%0A\"+str_link\n",
    "        url = f\"https://api.telegram.org/bot{TOKEN}/sendMessage?chat_id={chat_id}&text={text}\"\n",
    "        #we can select the ratio of messages\n",
    "        time.sleep(2)\n",
    "        r = requests.get(url)\n",
    "        print(r.json())"
   ]
  },
  {
   "cell_type": "code",
   "execution_count": null,
   "id": "06af4ad2",
   "metadata": {},
   "outputs": [],
   "source": [
    "#MAIN\n",
    "#reset dataframe\n",
    "df = pd.DataFrame(columns=['Name','price','rating','#rating' , 'link'])\n",
    "#collect all data and create df with all data\n",
    "df=scrape_page(df)\n",
    "for i in range(2,20):\n",
    "    #s-pagination-item s-pagination-next s-pagination-button s-pagination-separator\n",
    "    page_button = driver.find_element(By.XPATH, '//a[@class=\"s-pagination-item s-pagination-next s-pagination-button s-pagination-separator\"]')\n",
    "    page_button.click()\n",
    "    df=scrape_page(df)\n",
    "    time.sleep(2)\n",
    "driver.quit()\n",
    "\n",
    "#send data to the channel   \n",
    "send_data()\n"
   ]
  },
  {
   "cell_type": "code",
   "execution_count": null,
   "id": "676307cc",
   "metadata": {},
   "outputs": [],
   "source": [
    "# to check data scraped\n",
    "print(product_name)\n",
    "print(product_asin)\n",
    "print(product_price)\n",
    "print(product_ratings)\n",
    "print(product_ratings_num)\n",
    "print(product_link)"
   ]
  },
  {
   "cell_type": "code",
   "execution_count": null,
   "id": "f9ceba06",
   "metadata": {},
   "outputs": [],
   "source": [
    "print(df)"
   ]
  },
  {
   "cell_type": "markdown",
   "id": "a87ed1e8",
   "metadata": {},
   "source": [
    "DA QUI IN GIU TUTTO IL CODICE PER TESTARE"
   ]
  },
  {
   "cell_type": "code",
   "execution_count": null,
   "id": "d3d472d3",
   "metadata": {},
   "outputs": [],
   "source": [
    "#tutti i link della pagina\n",
    "links = driver.find_elements(By.XPATH, '//a[@class=\"a-link-normal s-underline-text s-underline-link-text s-link-style a-text-normal\"]')\n",
    "l=[]\n",
    "for link in links:\n",
    "    value = link.get_attribute('href')\n",
    "    print(value)\n",
    "    l.append(value)\n",
    "print(\"_________________________________________________________\")\n",
    "print(l)\n"
   ]
  },
  {
   "cell_type": "code",
   "execution_count": null,
   "id": "2b135c01",
   "metadata": {},
   "outputs": [],
   "source": [
    "#legge tutte le righe del df\n",
    "for row in df.itertuples():\n",
    "    print(row.link)\n",
    "    print(row.Index)"
   ]
  },
  {
   "cell_type": "code",
   "execution_count": null,
   "id": "9026cb62",
   "metadata": {},
   "outputs": [],
   "source": [
    "#serve a mandare i messaggi sul canale\n",
    "import time\n",
    "import schedule\n",
    "import requests\n",
    "\n",
    "import requests\n",
    "TOKEN = \"5532274185:AAGE8CQOwV6i6VtER1xBAfhciVv4WBDSLWA\"\n",
    "chat_id = \"-1001774376845\"\n",
    "text = \"ciaooooo\"\n",
    "url = f\"https://api.telegram.org/bot{TOKEN}/sendMessage?chat_id={chat_id}&text={text}\"\n",
    "# url = f\"https://api.telegram.org/bot{TOKEN}/getUpdates\"\n",
    "r = requests.get(url)\n",
    "print(r.json())"
   ]
  },
  {
   "cell_type": "code",
   "execution_count": null,
   "id": "605d51bd",
   "metadata": {},
   "outputs": [],
   "source": [
    "for i in range(2,20):\n",
    "    #s-pagination-item s-pagination-next s-pagination-button s-pagination-separator\n",
    "    page_button = driver.find_element(By.XPATH, '//a[@class=\"s-pagination-item s-pagination-next s-pagination-button s-pagination-separator\"]')\n",
    "    page_button.click()\n",
    "    time.sleep(2)\n",
    "\n"
   ]
  }
 ],
 "metadata": {
  "kernelspec": {
   "display_name": "Python 3 (ipykernel)",
   "language": "python",
   "name": "python3"
  },
  "language_info": {
   "codemirror_mode": {
    "name": "ipython",
    "version": 3
   },
   "file_extension": ".py",
   "mimetype": "text/x-python",
   "name": "python",
   "nbconvert_exporter": "python",
   "pygments_lexer": "ipython3",
   "version": "3.9.7"
  }
 },
 "nbformat": 4,
 "nbformat_minor": 5
}
