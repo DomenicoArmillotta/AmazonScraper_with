{
 "cells": [
  {
   "cell_type": "code",
   "execution_count": 76,
   "id": "0713f4bd",
   "metadata": {},
   "outputs": [],
   "source": [
    "from selenium import webdriver\n",
    "from selenium.webdriver.common.by import By\n",
    "from selenium.webdriver.support.ui import WebDriverWait \n",
    "from selenium.webdriver.support import expected_conditions as EC\n",
    "\n",
    "from selenium import webdriver\n",
    "from selenium.webdriver.chrome.service import Service\n",
    "from selenium.webdriver.common.by import By\n",
    "from selenium.webdriver.support.ui import WebDriverWait as wait\n",
    "from selenium.webdriver.support import expected_conditions as EC\n",
    "import pandas as pd\n",
    "import time\n",
    "import time\n",
    "import schedule\n",
    "import requests\n",
    "\n"
   ]
  },
  {
   "cell_type": "code",
   "execution_count": 77,
   "id": "1414ae94",
   "metadata": {},
   "outputs": [],
   "source": [
    "# assign your website to scrape\n",
    "web = 'https://www.amazon.com'\n",
    "options = webdriver.ChromeOptions()\n",
    "\n",
    "driver = webdriver.Chrome()\n",
    "driver.get(web)\n",
    "\n",
    "driver.implicitly_wait(5)\n",
    "keyword = \"wireless\"\n",
    "search = driver.find_element(By.ID, 'twotabsearchtextbox')\n",
    "search.send_keys(keyword)\n",
    "# click search button\n",
    "search_button = driver.find_element(By.ID, 'nav-search-submit-button')\n",
    "search_button.click()\n",
    "\n",
    "driver.implicitly_wait(5)"
   ]
  },
  {
   "cell_type": "code",
   "execution_count": 78,
   "id": "f32345d4",
   "metadata": {},
   "outputs": [
    {
     "data": {
      "text/html": [
       "<div>\n",
       "<style scoped>\n",
       "    .dataframe tbody tr th:only-of-type {\n",
       "        vertical-align: middle;\n",
       "    }\n",
       "\n",
       "    .dataframe tbody tr th {\n",
       "        vertical-align: top;\n",
       "    }\n",
       "\n",
       "    .dataframe thead th {\n",
       "        text-align: right;\n",
       "    }\n",
       "</style>\n",
       "<table border=\"1\" class=\"dataframe\">\n",
       "  <thead>\n",
       "    <tr style=\"text-align: right;\">\n",
       "      <th></th>\n",
       "      <th>Name</th>\n",
       "      <th>price</th>\n",
       "      <th>rating</th>\n",
       "      <th>#rating</th>\n",
       "      <th>link</th>\n",
       "    </tr>\n",
       "  </thead>\n",
       "  <tbody>\n",
       "  </tbody>\n",
       "</table>\n",
       "</div>"
      ],
      "text/plain": [
       "Empty DataFrame\n",
       "Columns: [Name, price, rating, #rating, link]\n",
       "Index: []"
      ]
     },
     "execution_count": 78,
     "metadata": {},
     "output_type": "execute_result"
    }
   ],
   "source": [
    "product_name = []\n",
    "product_asin = []\n",
    "product_price = []\n",
    "product_ratings = []\n",
    "product_ratings_num = []\n",
    "product_link = []\n",
    "df = pd.DataFrame(columns=['Name','price','rating','#rating' , 'link'])"
   ]
  },
  {
   "cell_type": "code",
   "execution_count": 79,
   "id": "a21a15fb",
   "metadata": {},
   "outputs": [],
   "source": [
    "def scrape_page(main_df):\n",
    "    df=main_df.copy()\n",
    "    #trova tutti gli item\n",
    "    items = wait(driver, 10).until(EC.presence_of_all_elements_located((By.XPATH, '//div[contains(@class, \"s-result-item s-asin\")]')))\n",
    "    for item in items:\n",
    "        # find name\n",
    "        name = item.find_element(By.XPATH, './/span[@class=\"a-size-medium a-color-base a-text-normal\"]')\n",
    "        product_name.append(name.text)\n",
    "\n",
    "        # find price\n",
    "        whole_price = item.find_elements(By.XPATH, './/span[@class=\"a-price-whole\"]')\n",
    "        fraction_price = item.find_elements(By.XPATH, './/span[@class=\"a-price-fraction\"]')\n",
    "\n",
    "        if whole_price != [] and fraction_price != []:\n",
    "            price = '.'.join([whole_price[0].text, fraction_price[0].text])\n",
    "        else:\n",
    "            price = 0\n",
    "        product_price.append(price)\n",
    "\n",
    "        # find ratings box\n",
    "        ratings_box = item.find_elements(By.XPATH, './/div[@class=\"a-row a-size-small\"]/span')\n",
    "\n",
    "        # find ratings and ratings_num\n",
    "        if ratings_box != []:\n",
    "            ratings = ratings_box[0].get_attribute('aria-label')\n",
    "            ratings_num = ratings_box[1].get_attribute('aria-label')\n",
    "        else:\n",
    "            ratings, ratings_num = 0, 0\n",
    "\n",
    "        product_ratings.append(ratings)\n",
    "        product_ratings_num.append(str(ratings_num))\n",
    "\n",
    "        # find link\n",
    "        #link = item.find_element(By.XPATH, './/a[@class=\"a-link-normal a-text-normal\"]').get_attribute(\"href\")\n",
    "        #product_link.append(link)\n",
    "\n",
    "        boxlinks = driver.find_elements(By.XPATH, '//a[@class=\"a-link-normal s-underline-text s-underline-link-text s-link-style a-text-normal\"]')\n",
    "        for boxlink in boxlinks:\n",
    "            link = boxlink.get_attribute('href')\n",
    "\n",
    "\n",
    "        new_row = {'Name':name.text, 'price':price, 'rating':ratings, '#rating':str(ratings_num) , 'link':link}\n",
    "        df = df.append(new_row, ignore_index=True)\n",
    "        return df\n",
    "\n",
    "\n",
    "#driver.quit()\n",
    "\n"
   ]
  },
  {
   "cell_type": "code",
   "execution_count": null,
   "id": "6d33a59e",
   "metadata": {},
   "outputs": [],
   "source": [
    "def send_data():\n",
    "    TOKEN = \"5532274185:AAGE8CQOwV6i6VtER1xBAfhciVv4WBDSLWA\"\n",
    "    chat_id = \"-1001774376845\"\n",
    "\n",
    "    for row in df.itertuples():\n",
    "        str_link = row.link\n",
    "        str_name = row.Name\n",
    "        str_price = row.price\n",
    "        print(\"🔴 \",str_price,\" 🔴\",\"\\n\",str_name,\"\\n\",str_link)\n",
    "        text = \"🔴 \"+str(str_price)+\" $\"+\" 🔴\"+\"%0A\"+str_name+\"%0A\"+str_link\n",
    "        url = f\"https://api.telegram.org/bot{TOKEN}/sendMessage?chat_id={chat_id}&text={text}\"\n",
    "        time.sleep(2)\n",
    "        r = requests.get(url)\n",
    "        print(r.json())"
   ]
  },
  {
   "cell_type": "code",
   "execution_count": 80,
   "id": "6f8b5935",
   "metadata": {},
   "outputs": [
    {
     "name": "stderr",
     "output_type": "stream",
     "text": [
      "C:\\Users\\Domenico\\AppData\\Local\\Temp/ipykernel_8200/1936867818.py:43: FutureWarning: The frame.append method is deprecated and will be removed from pandas in a future version. Use pandas.concat instead.\n",
      "  df = df.append(new_row, ignore_index=True)\n",
      "C:\\Users\\Domenico\\AppData\\Local\\Temp/ipykernel_8200/1936867818.py:43: FutureWarning: The frame.append method is deprecated and will be removed from pandas in a future version. Use pandas.concat instead.\n",
      "  df = df.append(new_row, ignore_index=True)\n"
     ]
    },
    {
     "name": "stdout",
     "output_type": "stream",
     "text": [
      "                                                Name  price  \\\n",
      "0  Amaboo 10.1'' WiFi Digital Picture Frames Smar...  89.99   \n",
      "1  Inventory Scanner,JRHC Wireless Barcode Scanne...  79.99   \n",
      "\n",
      "               rating #rating  \\\n",
      "0  4.5 out of 5 stars      32   \n",
      "1  3.8 out of 5 stars       8   \n",
      "\n",
      "                                                link  \n",
      "0  https://www.amazon.com/gp/slredirect/picassoRe...  \n",
      "1  https://www.amazon.com/JBL-Tune-510BT-Ear-Head...  \n",
      "2\n"
     ]
    },
    {
     "name": "stderr",
     "output_type": "stream",
     "text": [
      "C:\\Users\\Domenico\\AppData\\Local\\Temp/ipykernel_8200/1936867818.py:43: FutureWarning: The frame.append method is deprecated and will be removed from pandas in a future version. Use pandas.concat instead.\n",
      "  df = df.append(new_row, ignore_index=True)\n"
     ]
    },
    {
     "name": "stdout",
     "output_type": "stream",
     "text": [
      "                                                Name  price  \\\n",
      "0  Amaboo 10.1'' WiFi Digital Picture Frames Smar...  89.99   \n",
      "1  Inventory Scanner,JRHC Wireless Barcode Scanne...  79.99   \n",
      "2  (2 Units) Wireless Presenter Remote, Clicker f...  19.99   \n",
      "\n",
      "               rating #rating  \\\n",
      "0  4.5 out of 5 stars      32   \n",
      "1  3.8 out of 5 stars       8   \n",
      "2                   0       0   \n",
      "\n",
      "                                                link  \n",
      "0  https://www.amazon.com/gp/slredirect/picassoRe...  \n",
      "1  https://www.amazon.com/JBL-Tune-510BT-Ear-Head...  \n",
      "2  https://www.amazon.com/gp/slredirect/picassoRe...  \n",
      "3\n"
     ]
    },
    {
     "name": "stderr",
     "output_type": "stream",
     "text": [
      "C:\\Users\\Domenico\\AppData\\Local\\Temp/ipykernel_8200/1936867818.py:43: FutureWarning: The frame.append method is deprecated and will be removed from pandas in a future version. Use pandas.concat instead.\n",
      "  df = df.append(new_row, ignore_index=True)\n"
     ]
    },
    {
     "name": "stdout",
     "output_type": "stream",
     "text": [
      "                                                Name  price  \\\n",
      "0  Amaboo 10.1'' WiFi Digital Picture Frames Smar...  89.99   \n",
      "1  Inventory Scanner,JRHC Wireless Barcode Scanne...  79.99   \n",
      "2  (2 Units) Wireless Presenter Remote, Clicker f...  19.99   \n",
      "3  Rechargeable Remote Presentation Clicker for M...   8.99   \n",
      "\n",
      "               rating #rating  \\\n",
      "0  4.5 out of 5 stars      32   \n",
      "1  3.8 out of 5 stars       8   \n",
      "2                   0       0   \n",
      "3  1.0 out of 5 stars       1   \n",
      "\n",
      "                                                link  \n",
      "0  https://www.amazon.com/gp/slredirect/picassoRe...  \n",
      "1  https://www.amazon.com/JBL-Tune-510BT-Ear-Head...  \n",
      "2  https://www.amazon.com/gp/slredirect/picassoRe...  \n",
      "3  https://www.amazon.com/Warners-Womens-Effects-...  \n",
      "4\n"
     ]
    },
    {
     "name": "stderr",
     "output_type": "stream",
     "text": [
      "C:\\Users\\Domenico\\AppData\\Local\\Temp/ipykernel_8200/1936867818.py:43: FutureWarning: The frame.append method is deprecated and will be removed from pandas in a future version. Use pandas.concat instead.\n",
      "  df = df.append(new_row, ignore_index=True)\n"
     ]
    },
    {
     "name": "stdout",
     "output_type": "stream",
     "text": [
      "                                                Name  price  \\\n",
      "0  Amaboo 10.1'' WiFi Digital Picture Frames Smar...  89.99   \n",
      "1  Inventory Scanner,JRHC Wireless Barcode Scanne...  79.99   \n",
      "2  (2 Units) Wireless Presenter Remote, Clicker f...  19.99   \n",
      "3  Rechargeable Remote Presentation Clicker for M...   8.99   \n",
      "4  Skullcandy Sesh True Wireless In-Ear Earbuds -...  29.92   \n",
      "\n",
      "               rating #rating  \\\n",
      "0  4.5 out of 5 stars      32   \n",
      "1  3.8 out of 5 stars       8   \n",
      "2                   0       0   \n",
      "3  1.0 out of 5 stars       1   \n",
      "4  4.1 out of 5 stars  37,803   \n",
      "\n",
      "                                                link  \n",
      "0  https://www.amazon.com/gp/slredirect/picassoRe...  \n",
      "1  https://www.amazon.com/JBL-Tune-510BT-Ear-Head...  \n",
      "2  https://www.amazon.com/gp/slredirect/picassoRe...  \n",
      "3  https://www.amazon.com/Warners-Womens-Effects-...  \n",
      "4  https://www.amazon.com/SMONET-Wireless-Securit...  \n",
      "5\n"
     ]
    },
    {
     "name": "stderr",
     "output_type": "stream",
     "text": [
      "C:\\Users\\Domenico\\AppData\\Local\\Temp/ipykernel_8200/1936867818.py:43: FutureWarning: The frame.append method is deprecated and will be removed from pandas in a future version. Use pandas.concat instead.\n",
      "  df = df.append(new_row, ignore_index=True)\n"
     ]
    },
    {
     "name": "stdout",
     "output_type": "stream",
     "text": [
      "                                                Name  price  \\\n",
      "0  Amaboo 10.1'' WiFi Digital Picture Frames Smar...  89.99   \n",
      "1  Inventory Scanner,JRHC Wireless Barcode Scanne...  79.99   \n",
      "2  (2 Units) Wireless Presenter Remote, Clicker f...  19.99   \n",
      "3  Rechargeable Remote Presentation Clicker for M...   8.99   \n",
      "4  Skullcandy Sesh True Wireless In-Ear Earbuds -...  29.92   \n",
      "5  MYDASH 10.1 inch Digital Picture Frame with Wi...  99.99   \n",
      "\n",
      "               rating #rating  \\\n",
      "0  4.5 out of 5 stars      32   \n",
      "1  3.8 out of 5 stars       8   \n",
      "2                   0       0   \n",
      "3  1.0 out of 5 stars       1   \n",
      "4  4.1 out of 5 stars  37,803   \n",
      "5  4.3 out of 5 stars     220   \n",
      "\n",
      "                                                link  \n",
      "0  https://www.amazon.com/gp/slredirect/picassoRe...  \n",
      "1  https://www.amazon.com/JBL-Tune-510BT-Ear-Head...  \n",
      "2  https://www.amazon.com/gp/slredirect/picassoRe...  \n",
      "3  https://www.amazon.com/Warners-Womens-Effects-...  \n",
      "4  https://www.amazon.com/SMONET-Wireless-Securit...  \n",
      "5  https://www.amazon.com/Bose-SoundLink-Bluetoot...  \n",
      "6\n"
     ]
    },
    {
     "name": "stderr",
     "output_type": "stream",
     "text": [
      "C:\\Users\\Domenico\\AppData\\Local\\Temp/ipykernel_8200/1936867818.py:43: FutureWarning: The frame.append method is deprecated and will be removed from pandas in a future version. Use pandas.concat instead.\n",
      "  df = df.append(new_row, ignore_index=True)\n"
     ]
    },
    {
     "name": "stdout",
     "output_type": "stream",
     "text": [
      "                                                Name   price  \\\n",
      "0  Amaboo 10.1'' WiFi Digital Picture Frames Smar...   89.99   \n",
      "1  Inventory Scanner,JRHC Wireless Barcode Scanne...   79.99   \n",
      "2  (2 Units) Wireless Presenter Remote, Clicker f...   19.99   \n",
      "3  Rechargeable Remote Presentation Clicker for M...    8.99   \n",
      "4  Skullcandy Sesh True Wireless In-Ear Earbuds -...   29.92   \n",
      "5  MYDASH 10.1 inch Digital Picture Frame with Wi...   99.99   \n",
      "6  Wireless Backup Camera, DOUXURY IP69 Waterproo...  139.99   \n",
      "\n",
      "               rating #rating  \\\n",
      "0  4.5 out of 5 stars      32   \n",
      "1  3.8 out of 5 stars       8   \n",
      "2                   0       0   \n",
      "3  1.0 out of 5 stars       1   \n",
      "4  4.1 out of 5 stars  37,803   \n",
      "5  4.3 out of 5 stars     220   \n",
      "6  4.5 out of 5 stars     516   \n",
      "\n",
      "                                                link  \n",
      "0  https://www.amazon.com/gp/slredirect/picassoRe...  \n",
      "1  https://www.amazon.com/JBL-Tune-510BT-Ear-Head...  \n",
      "2  https://www.amazon.com/gp/slredirect/picassoRe...  \n",
      "3  https://www.amazon.com/Warners-Womens-Effects-...  \n",
      "4  https://www.amazon.com/SMONET-Wireless-Securit...  \n",
      "5  https://www.amazon.com/Bose-SoundLink-Bluetoot...  \n",
      "6  https://www.amazon.com/AA-Wireless-Adapter-And...  \n",
      "7\n"
     ]
    },
    {
     "name": "stderr",
     "output_type": "stream",
     "text": [
      "C:\\Users\\Domenico\\AppData\\Local\\Temp/ipykernel_8200/1936867818.py:43: FutureWarning: The frame.append method is deprecated and will be removed from pandas in a future version. Use pandas.concat instead.\n",
      "  df = df.append(new_row, ignore_index=True)\n"
     ]
    },
    {
     "name": "stdout",
     "output_type": "stream",
     "text": [
      "                                                Name   price  \\\n",
      "0  Amaboo 10.1'' WiFi Digital Picture Frames Smar...   89.99   \n",
      "1  Inventory Scanner,JRHC Wireless Barcode Scanne...   79.99   \n",
      "2  (2 Units) Wireless Presenter Remote, Clicker f...   19.99   \n",
      "3  Rechargeable Remote Presentation Clicker for M...    8.99   \n",
      "4  Skullcandy Sesh True Wireless In-Ear Earbuds -...   29.92   \n",
      "5  MYDASH 10.1 inch Digital Picture Frame with Wi...   99.99   \n",
      "6  Wireless Backup Camera, DOUXURY IP69 Waterproo...  139.99   \n",
      "7  Zacoora Portable 1D 2D Barcode Scanner Wireles...   56.99   \n",
      "\n",
      "               rating #rating  \\\n",
      "0  4.5 out of 5 stars      32   \n",
      "1  3.8 out of 5 stars       8   \n",
      "2                   0       0   \n",
      "3  1.0 out of 5 stars       1   \n",
      "4  4.1 out of 5 stars  37,803   \n",
      "5  4.3 out of 5 stars     220   \n",
      "6  4.5 out of 5 stars     516   \n",
      "7                   0       0   \n",
      "\n",
      "                                                link  \n",
      "0  https://www.amazon.com/gp/slredirect/picassoRe...  \n",
      "1  https://www.amazon.com/JBL-Tune-510BT-Ear-Head...  \n",
      "2  https://www.amazon.com/gp/slredirect/picassoRe...  \n",
      "3  https://www.amazon.com/Warners-Womens-Effects-...  \n",
      "4  https://www.amazon.com/SMONET-Wireless-Securit...  \n",
      "5  https://www.amazon.com/Bose-SoundLink-Bluetoot...  \n",
      "6  https://www.amazon.com/AA-Wireless-Adapter-And...  \n",
      "7  https://www.amazon.com/gp/slredirect/picassoRe...  \n",
      "8\n"
     ]
    },
    {
     "ename": "KeyboardInterrupt",
     "evalue": "",
     "output_type": "error",
     "traceback": [
      "\u001b[1;31m---------------------------------------------------------------------------\u001b[0m",
      "\u001b[1;31mKeyboardInterrupt\u001b[0m                         Traceback (most recent call last)",
      "\u001b[1;32m~\\AppData\\Local\\Temp/ipykernel_8200/1460037204.py\u001b[0m in \u001b[0;36m<module>\u001b[1;34m\u001b[0m\n\u001b[0;32m      4\u001b[0m     \u001b[0mpage_button\u001b[0m \u001b[1;33m=\u001b[0m \u001b[0mdriver\u001b[0m\u001b[1;33m.\u001b[0m\u001b[0mfind_element\u001b[0m\u001b[1;33m(\u001b[0m\u001b[0mBy\u001b[0m\u001b[1;33m.\u001b[0m\u001b[0mXPATH\u001b[0m\u001b[1;33m,\u001b[0m \u001b[1;34m'//a[@class=\"s-pagination-item s-pagination-next s-pagination-button s-pagination-separator\"]'\u001b[0m\u001b[1;33m)\u001b[0m\u001b[1;33m\u001b[0m\u001b[1;33m\u001b[0m\u001b[0m\n\u001b[0;32m      5\u001b[0m     \u001b[0mpage_button\u001b[0m\u001b[1;33m.\u001b[0m\u001b[0mclick\u001b[0m\u001b[1;33m(\u001b[0m\u001b[1;33m)\u001b[0m\u001b[1;33m\u001b[0m\u001b[1;33m\u001b[0m\u001b[0m\n\u001b[1;32m----> 6\u001b[1;33m     \u001b[0mdf\u001b[0m\u001b[1;33m=\u001b[0m\u001b[0mscrape_page\u001b[0m\u001b[1;33m(\u001b[0m\u001b[0mdf\u001b[0m\u001b[1;33m)\u001b[0m\u001b[1;33m\u001b[0m\u001b[1;33m\u001b[0m\u001b[0m\n\u001b[0m\u001b[0;32m      7\u001b[0m     \u001b[0mprint\u001b[0m\u001b[1;33m(\u001b[0m\u001b[0mdf\u001b[0m\u001b[1;33m)\u001b[0m\u001b[1;33m\u001b[0m\u001b[1;33m\u001b[0m\u001b[0m\n\u001b[0;32m      8\u001b[0m     \u001b[0mprint\u001b[0m\u001b[1;33m(\u001b[0m\u001b[0mi\u001b[0m\u001b[1;33m)\u001b[0m\u001b[1;33m\u001b[0m\u001b[1;33m\u001b[0m\u001b[0m\n",
      "\u001b[1;32m~\\AppData\\Local\\Temp/ipykernel_8200/1936867818.py\u001b[0m in \u001b[0;36mscrape_page\u001b[1;34m(main_df)\u001b[0m\n\u001b[0;32m      2\u001b[0m     \u001b[0mdf\u001b[0m\u001b[1;33m=\u001b[0m\u001b[0mmain_df\u001b[0m\u001b[1;33m.\u001b[0m\u001b[0mcopy\u001b[0m\u001b[1;33m(\u001b[0m\u001b[1;33m)\u001b[0m\u001b[1;33m\u001b[0m\u001b[1;33m\u001b[0m\u001b[0m\n\u001b[0;32m      3\u001b[0m     \u001b[1;31m#trova tutti gli item\u001b[0m\u001b[1;33m\u001b[0m\u001b[1;33m\u001b[0m\u001b[0m\n\u001b[1;32m----> 4\u001b[1;33m     \u001b[0mitems\u001b[0m \u001b[1;33m=\u001b[0m \u001b[0mwait\u001b[0m\u001b[1;33m(\u001b[0m\u001b[0mdriver\u001b[0m\u001b[1;33m,\u001b[0m \u001b[1;36m10\u001b[0m\u001b[1;33m)\u001b[0m\u001b[1;33m.\u001b[0m\u001b[0muntil\u001b[0m\u001b[1;33m(\u001b[0m\u001b[0mEC\u001b[0m\u001b[1;33m.\u001b[0m\u001b[0mpresence_of_all_elements_located\u001b[0m\u001b[1;33m(\u001b[0m\u001b[1;33m(\u001b[0m\u001b[0mBy\u001b[0m\u001b[1;33m.\u001b[0m\u001b[0mXPATH\u001b[0m\u001b[1;33m,\u001b[0m \u001b[1;34m'//div[contains(@class, \"s-result-item s-asin\")]'\u001b[0m\u001b[1;33m)\u001b[0m\u001b[1;33m)\u001b[0m\u001b[1;33m)\u001b[0m\u001b[1;33m\u001b[0m\u001b[1;33m\u001b[0m\u001b[0m\n\u001b[0m\u001b[0;32m      5\u001b[0m     \u001b[1;32mfor\u001b[0m \u001b[0mitem\u001b[0m \u001b[1;32min\u001b[0m \u001b[0mitems\u001b[0m\u001b[1;33m:\u001b[0m\u001b[1;33m\u001b[0m\u001b[1;33m\u001b[0m\u001b[0m\n\u001b[0;32m      6\u001b[0m         \u001b[1;31m# find name\u001b[0m\u001b[1;33m\u001b[0m\u001b[1;33m\u001b[0m\u001b[0m\n",
      "\u001b[1;32mC:\\ProgramData\\Anaconda3\\lib\\site-packages\\selenium\\webdriver\\support\\wait.py\u001b[0m in \u001b[0;36muntil\u001b[1;34m(self, method, message)\u001b[0m\n\u001b[0;32m     79\u001b[0m         \u001b[1;32mwhile\u001b[0m \u001b[1;32mTrue\u001b[0m\u001b[1;33m:\u001b[0m\u001b[1;33m\u001b[0m\u001b[1;33m\u001b[0m\u001b[0m\n\u001b[0;32m     80\u001b[0m             \u001b[1;32mtry\u001b[0m\u001b[1;33m:\u001b[0m\u001b[1;33m\u001b[0m\u001b[1;33m\u001b[0m\u001b[0m\n\u001b[1;32m---> 81\u001b[1;33m                 \u001b[0mvalue\u001b[0m \u001b[1;33m=\u001b[0m \u001b[0mmethod\u001b[0m\u001b[1;33m(\u001b[0m\u001b[0mself\u001b[0m\u001b[1;33m.\u001b[0m\u001b[0m_driver\u001b[0m\u001b[1;33m)\u001b[0m\u001b[1;33m\u001b[0m\u001b[1;33m\u001b[0m\u001b[0m\n\u001b[0m\u001b[0;32m     82\u001b[0m                 \u001b[1;32mif\u001b[0m \u001b[0mvalue\u001b[0m\u001b[1;33m:\u001b[0m\u001b[1;33m\u001b[0m\u001b[1;33m\u001b[0m\u001b[0m\n\u001b[0;32m     83\u001b[0m                     \u001b[1;32mreturn\u001b[0m \u001b[0mvalue\u001b[0m\u001b[1;33m\u001b[0m\u001b[1;33m\u001b[0m\u001b[0m\n",
      "\u001b[1;32mC:\\ProgramData\\Anaconda3\\lib\\site-packages\\selenium\\webdriver\\support\\expected_conditions.py\u001b[0m in \u001b[0;36m_predicate\u001b[1;34m(driver)\u001b[0m\n\u001b[0;32m    156\u001b[0m \u001b[1;33m\u001b[0m\u001b[0m\n\u001b[0;32m    157\u001b[0m     \u001b[1;32mdef\u001b[0m \u001b[0m_predicate\u001b[0m\u001b[1;33m(\u001b[0m\u001b[0mdriver\u001b[0m\u001b[1;33m)\u001b[0m\u001b[1;33m:\u001b[0m\u001b[1;33m\u001b[0m\u001b[1;33m\u001b[0m\u001b[0m\n\u001b[1;32m--> 158\u001b[1;33m         \u001b[1;32mreturn\u001b[0m \u001b[0mdriver\u001b[0m\u001b[1;33m.\u001b[0m\u001b[0mfind_elements\u001b[0m\u001b[1;33m(\u001b[0m\u001b[1;33m*\u001b[0m\u001b[0mlocator\u001b[0m\u001b[1;33m)\u001b[0m\u001b[1;33m\u001b[0m\u001b[1;33m\u001b[0m\u001b[0m\n\u001b[0m\u001b[0;32m    159\u001b[0m \u001b[1;33m\u001b[0m\u001b[0m\n\u001b[0;32m    160\u001b[0m     \u001b[1;32mreturn\u001b[0m \u001b[0m_predicate\u001b[0m\u001b[1;33m\u001b[0m\u001b[1;33m\u001b[0m\u001b[0m\n",
      "\u001b[1;32mC:\\ProgramData\\Anaconda3\\lib\\site-packages\\selenium\\webdriver\\remote\\webdriver.py\u001b[0m in \u001b[0;36mfind_elements\u001b[1;34m(self, by, value)\u001b[0m\n\u001b[0;32m    888\u001b[0m         \u001b[1;31m# Return empty list if driver returns null\u001b[0m\u001b[1;33m\u001b[0m\u001b[1;33m\u001b[0m\u001b[0m\n\u001b[0;32m    889\u001b[0m         \u001b[1;31m# See https://github.com/SeleniumHQ/selenium/issues/4555\u001b[0m\u001b[1;33m\u001b[0m\u001b[1;33m\u001b[0m\u001b[0m\n\u001b[1;32m--> 890\u001b[1;33m         return self.execute(Command.FIND_ELEMENTS, {\n\u001b[0m\u001b[0;32m    891\u001b[0m             \u001b[1;34m'using'\u001b[0m\u001b[1;33m:\u001b[0m \u001b[0mby\u001b[0m\u001b[1;33m,\u001b[0m\u001b[1;33m\u001b[0m\u001b[1;33m\u001b[0m\u001b[0m\n\u001b[0;32m    892\u001b[0m             'value': value})['value'] or []\n",
      "\u001b[1;32mC:\\ProgramData\\Anaconda3\\lib\\site-packages\\selenium\\webdriver\\remote\\webdriver.py\u001b[0m in \u001b[0;36mexecute\u001b[1;34m(self, driver_command, params)\u001b[0m\n\u001b[0;32m    431\u001b[0m \u001b[1;33m\u001b[0m\u001b[0m\n\u001b[0;32m    432\u001b[0m         \u001b[0mparams\u001b[0m \u001b[1;33m=\u001b[0m \u001b[0mself\u001b[0m\u001b[1;33m.\u001b[0m\u001b[0m_wrap_value\u001b[0m\u001b[1;33m(\u001b[0m\u001b[0mparams\u001b[0m\u001b[1;33m)\u001b[0m\u001b[1;33m\u001b[0m\u001b[1;33m\u001b[0m\u001b[0m\n\u001b[1;32m--> 433\u001b[1;33m         \u001b[0mresponse\u001b[0m \u001b[1;33m=\u001b[0m \u001b[0mself\u001b[0m\u001b[1;33m.\u001b[0m\u001b[0mcommand_executor\u001b[0m\u001b[1;33m.\u001b[0m\u001b[0mexecute\u001b[0m\u001b[1;33m(\u001b[0m\u001b[0mdriver_command\u001b[0m\u001b[1;33m,\u001b[0m \u001b[0mparams\u001b[0m\u001b[1;33m)\u001b[0m\u001b[1;33m\u001b[0m\u001b[1;33m\u001b[0m\u001b[0m\n\u001b[0m\u001b[0;32m    434\u001b[0m         \u001b[1;32mif\u001b[0m \u001b[0mresponse\u001b[0m\u001b[1;33m:\u001b[0m\u001b[1;33m\u001b[0m\u001b[1;33m\u001b[0m\u001b[0m\n\u001b[0;32m    435\u001b[0m             \u001b[0mself\u001b[0m\u001b[1;33m.\u001b[0m\u001b[0merror_handler\u001b[0m\u001b[1;33m.\u001b[0m\u001b[0mcheck_response\u001b[0m\u001b[1;33m(\u001b[0m\u001b[0mresponse\u001b[0m\u001b[1;33m)\u001b[0m\u001b[1;33m\u001b[0m\u001b[1;33m\u001b[0m\u001b[0m\n",
      "\u001b[1;32mC:\\ProgramData\\Anaconda3\\lib\\site-packages\\selenium\\webdriver\\remote\\remote_connection.py\u001b[0m in \u001b[0;36mexecute\u001b[1;34m(self, command, params)\u001b[0m\n\u001b[0;32m    342\u001b[0m         \u001b[0mdata\u001b[0m \u001b[1;33m=\u001b[0m \u001b[0mutils\u001b[0m\u001b[1;33m.\u001b[0m\u001b[0mdump_json\u001b[0m\u001b[1;33m(\u001b[0m\u001b[0mparams\u001b[0m\u001b[1;33m)\u001b[0m\u001b[1;33m\u001b[0m\u001b[1;33m\u001b[0m\u001b[0m\n\u001b[0;32m    343\u001b[0m         \u001b[0murl\u001b[0m \u001b[1;33m=\u001b[0m \u001b[1;34mf\"{self._url}{path}\"\u001b[0m\u001b[1;33m\u001b[0m\u001b[1;33m\u001b[0m\u001b[0m\n\u001b[1;32m--> 344\u001b[1;33m         \u001b[1;32mreturn\u001b[0m \u001b[0mself\u001b[0m\u001b[1;33m.\u001b[0m\u001b[0m_request\u001b[0m\u001b[1;33m(\u001b[0m\u001b[0mcommand_info\u001b[0m\u001b[1;33m[\u001b[0m\u001b[1;36m0\u001b[0m\u001b[1;33m]\u001b[0m\u001b[1;33m,\u001b[0m \u001b[0murl\u001b[0m\u001b[1;33m,\u001b[0m \u001b[0mbody\u001b[0m\u001b[1;33m=\u001b[0m\u001b[0mdata\u001b[0m\u001b[1;33m)\u001b[0m\u001b[1;33m\u001b[0m\u001b[1;33m\u001b[0m\u001b[0m\n\u001b[0m\u001b[0;32m    345\u001b[0m \u001b[1;33m\u001b[0m\u001b[0m\n\u001b[0;32m    346\u001b[0m     \u001b[1;32mdef\u001b[0m \u001b[0m_request\u001b[0m\u001b[1;33m(\u001b[0m\u001b[0mself\u001b[0m\u001b[1;33m,\u001b[0m \u001b[0mmethod\u001b[0m\u001b[1;33m,\u001b[0m \u001b[0murl\u001b[0m\u001b[1;33m,\u001b[0m \u001b[0mbody\u001b[0m\u001b[1;33m=\u001b[0m\u001b[1;32mNone\u001b[0m\u001b[1;33m)\u001b[0m\u001b[1;33m:\u001b[0m\u001b[1;33m\u001b[0m\u001b[1;33m\u001b[0m\u001b[0m\n",
      "\u001b[1;32mC:\\ProgramData\\Anaconda3\\lib\\site-packages\\selenium\\webdriver\\remote\\remote_connection.py\u001b[0m in \u001b[0;36m_request\u001b[1;34m(self, method, url, body)\u001b[0m\n\u001b[0;32m    364\u001b[0m \u001b[1;33m\u001b[0m\u001b[0m\n\u001b[0;32m    365\u001b[0m         \u001b[1;32mif\u001b[0m \u001b[0mself\u001b[0m\u001b[1;33m.\u001b[0m\u001b[0mkeep_alive\u001b[0m\u001b[1;33m:\u001b[0m\u001b[1;33m\u001b[0m\u001b[1;33m\u001b[0m\u001b[0m\n\u001b[1;32m--> 366\u001b[1;33m             \u001b[0mresponse\u001b[0m \u001b[1;33m=\u001b[0m \u001b[0mself\u001b[0m\u001b[1;33m.\u001b[0m\u001b[0m_conn\u001b[0m\u001b[1;33m.\u001b[0m\u001b[0mrequest\u001b[0m\u001b[1;33m(\u001b[0m\u001b[0mmethod\u001b[0m\u001b[1;33m,\u001b[0m \u001b[0murl\u001b[0m\u001b[1;33m,\u001b[0m \u001b[0mbody\u001b[0m\u001b[1;33m=\u001b[0m\u001b[0mbody\u001b[0m\u001b[1;33m,\u001b[0m \u001b[0mheaders\u001b[0m\u001b[1;33m=\u001b[0m\u001b[0mheaders\u001b[0m\u001b[1;33m)\u001b[0m\u001b[1;33m\u001b[0m\u001b[1;33m\u001b[0m\u001b[0m\n\u001b[0m\u001b[0;32m    367\u001b[0m             \u001b[0mstatuscode\u001b[0m \u001b[1;33m=\u001b[0m \u001b[0mresponse\u001b[0m\u001b[1;33m.\u001b[0m\u001b[0mstatus\u001b[0m\u001b[1;33m\u001b[0m\u001b[1;33m\u001b[0m\u001b[0m\n\u001b[0;32m    368\u001b[0m         \u001b[1;32melse\u001b[0m\u001b[1;33m:\u001b[0m\u001b[1;33m\u001b[0m\u001b[1;33m\u001b[0m\u001b[0m\n",
      "\u001b[1;32mC:\\ProgramData\\Anaconda3\\lib\\site-packages\\urllib3\\request.py\u001b[0m in \u001b[0;36mrequest\u001b[1;34m(self, method, url, fields, headers, **urlopen_kw)\u001b[0m\n\u001b[0;32m     76\u001b[0m             )\n\u001b[0;32m     77\u001b[0m         \u001b[1;32melse\u001b[0m\u001b[1;33m:\u001b[0m\u001b[1;33m\u001b[0m\u001b[1;33m\u001b[0m\u001b[0m\n\u001b[1;32m---> 78\u001b[1;33m             return self.request_encode_body(\n\u001b[0m\u001b[0;32m     79\u001b[0m                 \u001b[0mmethod\u001b[0m\u001b[1;33m,\u001b[0m \u001b[0murl\u001b[0m\u001b[1;33m,\u001b[0m \u001b[0mfields\u001b[0m\u001b[1;33m=\u001b[0m\u001b[0mfields\u001b[0m\u001b[1;33m,\u001b[0m \u001b[0mheaders\u001b[0m\u001b[1;33m=\u001b[0m\u001b[0mheaders\u001b[0m\u001b[1;33m,\u001b[0m \u001b[1;33m**\u001b[0m\u001b[0murlopen_kw\u001b[0m\u001b[1;33m\u001b[0m\u001b[1;33m\u001b[0m\u001b[0m\n\u001b[0;32m     80\u001b[0m             )\n",
      "\u001b[1;32mC:\\ProgramData\\Anaconda3\\lib\\site-packages\\urllib3\\request.py\u001b[0m in \u001b[0;36mrequest_encode_body\u001b[1;34m(self, method, url, fields, headers, encode_multipart, multipart_boundary, **urlopen_kw)\u001b[0m\n\u001b[0;32m    168\u001b[0m         \u001b[0mextra_kw\u001b[0m\u001b[1;33m.\u001b[0m\u001b[0mupdate\u001b[0m\u001b[1;33m(\u001b[0m\u001b[0murlopen_kw\u001b[0m\u001b[1;33m)\u001b[0m\u001b[1;33m\u001b[0m\u001b[1;33m\u001b[0m\u001b[0m\n\u001b[0;32m    169\u001b[0m \u001b[1;33m\u001b[0m\u001b[0m\n\u001b[1;32m--> 170\u001b[1;33m         \u001b[1;32mreturn\u001b[0m \u001b[0mself\u001b[0m\u001b[1;33m.\u001b[0m\u001b[0murlopen\u001b[0m\u001b[1;33m(\u001b[0m\u001b[0mmethod\u001b[0m\u001b[1;33m,\u001b[0m \u001b[0murl\u001b[0m\u001b[1;33m,\u001b[0m \u001b[1;33m**\u001b[0m\u001b[0mextra_kw\u001b[0m\u001b[1;33m)\u001b[0m\u001b[1;33m\u001b[0m\u001b[1;33m\u001b[0m\u001b[0m\n\u001b[0m",
      "\u001b[1;32mC:\\ProgramData\\Anaconda3\\lib\\site-packages\\urllib3\\poolmanager.py\u001b[0m in \u001b[0;36murlopen\u001b[1;34m(self, method, url, redirect, **kw)\u001b[0m\n\u001b[0;32m    373\u001b[0m             \u001b[0mresponse\u001b[0m \u001b[1;33m=\u001b[0m \u001b[0mconn\u001b[0m\u001b[1;33m.\u001b[0m\u001b[0murlopen\u001b[0m\u001b[1;33m(\u001b[0m\u001b[0mmethod\u001b[0m\u001b[1;33m,\u001b[0m \u001b[0murl\u001b[0m\u001b[1;33m,\u001b[0m \u001b[1;33m**\u001b[0m\u001b[0mkw\u001b[0m\u001b[1;33m)\u001b[0m\u001b[1;33m\u001b[0m\u001b[1;33m\u001b[0m\u001b[0m\n\u001b[0;32m    374\u001b[0m         \u001b[1;32melse\u001b[0m\u001b[1;33m:\u001b[0m\u001b[1;33m\u001b[0m\u001b[1;33m\u001b[0m\u001b[0m\n\u001b[1;32m--> 375\u001b[1;33m             \u001b[0mresponse\u001b[0m \u001b[1;33m=\u001b[0m \u001b[0mconn\u001b[0m\u001b[1;33m.\u001b[0m\u001b[0murlopen\u001b[0m\u001b[1;33m(\u001b[0m\u001b[0mmethod\u001b[0m\u001b[1;33m,\u001b[0m \u001b[0mu\u001b[0m\u001b[1;33m.\u001b[0m\u001b[0mrequest_uri\u001b[0m\u001b[1;33m,\u001b[0m \u001b[1;33m**\u001b[0m\u001b[0mkw\u001b[0m\u001b[1;33m)\u001b[0m\u001b[1;33m\u001b[0m\u001b[1;33m\u001b[0m\u001b[0m\n\u001b[0m\u001b[0;32m    376\u001b[0m \u001b[1;33m\u001b[0m\u001b[0m\n\u001b[0;32m    377\u001b[0m         \u001b[0mredirect_location\u001b[0m \u001b[1;33m=\u001b[0m \u001b[0mredirect\u001b[0m \u001b[1;32mand\u001b[0m \u001b[0mresponse\u001b[0m\u001b[1;33m.\u001b[0m\u001b[0mget_redirect_location\u001b[0m\u001b[1;33m(\u001b[0m\u001b[1;33m)\u001b[0m\u001b[1;33m\u001b[0m\u001b[1;33m\u001b[0m\u001b[0m\n",
      "\u001b[1;32mC:\\ProgramData\\Anaconda3\\lib\\site-packages\\urllib3\\connectionpool.py\u001b[0m in \u001b[0;36murlopen\u001b[1;34m(self, method, url, body, headers, retries, redirect, assert_same_host, timeout, pool_timeout, release_conn, chunked, body_pos, **response_kw)\u001b[0m\n\u001b[0;32m    697\u001b[0m \u001b[1;33m\u001b[0m\u001b[0m\n\u001b[0;32m    698\u001b[0m             \u001b[1;31m# Make the request on the httplib connection object.\u001b[0m\u001b[1;33m\u001b[0m\u001b[1;33m\u001b[0m\u001b[0m\n\u001b[1;32m--> 699\u001b[1;33m             httplib_response = self._make_request(\n\u001b[0m\u001b[0;32m    700\u001b[0m                 \u001b[0mconn\u001b[0m\u001b[1;33m,\u001b[0m\u001b[1;33m\u001b[0m\u001b[1;33m\u001b[0m\u001b[0m\n\u001b[0;32m    701\u001b[0m                 \u001b[0mmethod\u001b[0m\u001b[1;33m,\u001b[0m\u001b[1;33m\u001b[0m\u001b[1;33m\u001b[0m\u001b[0m\n",
      "\u001b[1;32mC:\\ProgramData\\Anaconda3\\lib\\site-packages\\urllib3\\connectionpool.py\u001b[0m in \u001b[0;36m_make_request\u001b[1;34m(self, conn, method, url, timeout, chunked, **httplib_request_kw)\u001b[0m\n\u001b[0;32m    443\u001b[0m                     \u001b[1;31m# Python 3 (including for exceptions like SystemExit).\u001b[0m\u001b[1;33m\u001b[0m\u001b[1;33m\u001b[0m\u001b[0m\n\u001b[0;32m    444\u001b[0m                     \u001b[1;31m# Otherwise it looks like a bug in the code.\u001b[0m\u001b[1;33m\u001b[0m\u001b[1;33m\u001b[0m\u001b[0m\n\u001b[1;32m--> 445\u001b[1;33m                     \u001b[0msix\u001b[0m\u001b[1;33m.\u001b[0m\u001b[0mraise_from\u001b[0m\u001b[1;33m(\u001b[0m\u001b[0me\u001b[0m\u001b[1;33m,\u001b[0m \u001b[1;32mNone\u001b[0m\u001b[1;33m)\u001b[0m\u001b[1;33m\u001b[0m\u001b[1;33m\u001b[0m\u001b[0m\n\u001b[0m\u001b[0;32m    446\u001b[0m         \u001b[1;32mexcept\u001b[0m \u001b[1;33m(\u001b[0m\u001b[0mSocketTimeout\u001b[0m\u001b[1;33m,\u001b[0m \u001b[0mBaseSSLError\u001b[0m\u001b[1;33m,\u001b[0m \u001b[0mSocketError\u001b[0m\u001b[1;33m)\u001b[0m \u001b[1;32mas\u001b[0m \u001b[0me\u001b[0m\u001b[1;33m:\u001b[0m\u001b[1;33m\u001b[0m\u001b[1;33m\u001b[0m\u001b[0m\n\u001b[0;32m    447\u001b[0m             \u001b[0mself\u001b[0m\u001b[1;33m.\u001b[0m\u001b[0m_raise_timeout\u001b[0m\u001b[1;33m(\u001b[0m\u001b[0merr\u001b[0m\u001b[1;33m=\u001b[0m\u001b[0me\u001b[0m\u001b[1;33m,\u001b[0m \u001b[0murl\u001b[0m\u001b[1;33m=\u001b[0m\u001b[0murl\u001b[0m\u001b[1;33m,\u001b[0m \u001b[0mtimeout_value\u001b[0m\u001b[1;33m=\u001b[0m\u001b[0mread_timeout\u001b[0m\u001b[1;33m)\u001b[0m\u001b[1;33m\u001b[0m\u001b[1;33m\u001b[0m\u001b[0m\n",
      "\u001b[1;32mC:\\ProgramData\\Anaconda3\\lib\\site-packages\\urllib3\\packages\\six.py\u001b[0m in \u001b[0;36mraise_from\u001b[1;34m(value, from_value)\u001b[0m\n",
      "\u001b[1;32mC:\\ProgramData\\Anaconda3\\lib\\site-packages\\urllib3\\connectionpool.py\u001b[0m in \u001b[0;36m_make_request\u001b[1;34m(self, conn, method, url, timeout, chunked, **httplib_request_kw)\u001b[0m\n\u001b[0;32m    438\u001b[0m                 \u001b[1;31m# Python 3\u001b[0m\u001b[1;33m\u001b[0m\u001b[1;33m\u001b[0m\u001b[0m\n\u001b[0;32m    439\u001b[0m                 \u001b[1;32mtry\u001b[0m\u001b[1;33m:\u001b[0m\u001b[1;33m\u001b[0m\u001b[1;33m\u001b[0m\u001b[0m\n\u001b[1;32m--> 440\u001b[1;33m                     \u001b[0mhttplib_response\u001b[0m \u001b[1;33m=\u001b[0m \u001b[0mconn\u001b[0m\u001b[1;33m.\u001b[0m\u001b[0mgetresponse\u001b[0m\u001b[1;33m(\u001b[0m\u001b[1;33m)\u001b[0m\u001b[1;33m\u001b[0m\u001b[1;33m\u001b[0m\u001b[0m\n\u001b[0m\u001b[0;32m    441\u001b[0m                 \u001b[1;32mexcept\u001b[0m \u001b[0mBaseException\u001b[0m \u001b[1;32mas\u001b[0m \u001b[0me\u001b[0m\u001b[1;33m:\u001b[0m\u001b[1;33m\u001b[0m\u001b[1;33m\u001b[0m\u001b[0m\n\u001b[0;32m    442\u001b[0m                     \u001b[1;31m# Remove the TypeError from the exception chain in\u001b[0m\u001b[1;33m\u001b[0m\u001b[1;33m\u001b[0m\u001b[0m\n",
      "\u001b[1;32mC:\\ProgramData\\Anaconda3\\lib\\http\\client.py\u001b[0m in \u001b[0;36mgetresponse\u001b[1;34m(self)\u001b[0m\n\u001b[0;32m   1369\u001b[0m         \u001b[1;32mtry\u001b[0m\u001b[1;33m:\u001b[0m\u001b[1;33m\u001b[0m\u001b[1;33m\u001b[0m\u001b[0m\n\u001b[0;32m   1370\u001b[0m             \u001b[1;32mtry\u001b[0m\u001b[1;33m:\u001b[0m\u001b[1;33m\u001b[0m\u001b[1;33m\u001b[0m\u001b[0m\n\u001b[1;32m-> 1371\u001b[1;33m                 \u001b[0mresponse\u001b[0m\u001b[1;33m.\u001b[0m\u001b[0mbegin\u001b[0m\u001b[1;33m(\u001b[0m\u001b[1;33m)\u001b[0m\u001b[1;33m\u001b[0m\u001b[1;33m\u001b[0m\u001b[0m\n\u001b[0m\u001b[0;32m   1372\u001b[0m             \u001b[1;32mexcept\u001b[0m \u001b[0mConnectionError\u001b[0m\u001b[1;33m:\u001b[0m\u001b[1;33m\u001b[0m\u001b[1;33m\u001b[0m\u001b[0m\n\u001b[0;32m   1373\u001b[0m                 \u001b[0mself\u001b[0m\u001b[1;33m.\u001b[0m\u001b[0mclose\u001b[0m\u001b[1;33m(\u001b[0m\u001b[1;33m)\u001b[0m\u001b[1;33m\u001b[0m\u001b[1;33m\u001b[0m\u001b[0m\n",
      "\u001b[1;32mC:\\ProgramData\\Anaconda3\\lib\\http\\client.py\u001b[0m in \u001b[0;36mbegin\u001b[1;34m(self)\u001b[0m\n\u001b[0;32m    317\u001b[0m         \u001b[1;31m# read until we get a non-100 response\u001b[0m\u001b[1;33m\u001b[0m\u001b[1;33m\u001b[0m\u001b[0m\n\u001b[0;32m    318\u001b[0m         \u001b[1;32mwhile\u001b[0m \u001b[1;32mTrue\u001b[0m\u001b[1;33m:\u001b[0m\u001b[1;33m\u001b[0m\u001b[1;33m\u001b[0m\u001b[0m\n\u001b[1;32m--> 319\u001b[1;33m             \u001b[0mversion\u001b[0m\u001b[1;33m,\u001b[0m \u001b[0mstatus\u001b[0m\u001b[1;33m,\u001b[0m \u001b[0mreason\u001b[0m \u001b[1;33m=\u001b[0m \u001b[0mself\u001b[0m\u001b[1;33m.\u001b[0m\u001b[0m_read_status\u001b[0m\u001b[1;33m(\u001b[0m\u001b[1;33m)\u001b[0m\u001b[1;33m\u001b[0m\u001b[1;33m\u001b[0m\u001b[0m\n\u001b[0m\u001b[0;32m    320\u001b[0m             \u001b[1;32mif\u001b[0m \u001b[0mstatus\u001b[0m \u001b[1;33m!=\u001b[0m \u001b[0mCONTINUE\u001b[0m\u001b[1;33m:\u001b[0m\u001b[1;33m\u001b[0m\u001b[1;33m\u001b[0m\u001b[0m\n\u001b[0;32m    321\u001b[0m                 \u001b[1;32mbreak\u001b[0m\u001b[1;33m\u001b[0m\u001b[1;33m\u001b[0m\u001b[0m\n",
      "\u001b[1;32mC:\\ProgramData\\Anaconda3\\lib\\http\\client.py\u001b[0m in \u001b[0;36m_read_status\u001b[1;34m(self)\u001b[0m\n\u001b[0;32m    278\u001b[0m \u001b[1;33m\u001b[0m\u001b[0m\n\u001b[0;32m    279\u001b[0m     \u001b[1;32mdef\u001b[0m \u001b[0m_read_status\u001b[0m\u001b[1;33m(\u001b[0m\u001b[0mself\u001b[0m\u001b[1;33m)\u001b[0m\u001b[1;33m:\u001b[0m\u001b[1;33m\u001b[0m\u001b[1;33m\u001b[0m\u001b[0m\n\u001b[1;32m--> 280\u001b[1;33m         \u001b[0mline\u001b[0m \u001b[1;33m=\u001b[0m \u001b[0mstr\u001b[0m\u001b[1;33m(\u001b[0m\u001b[0mself\u001b[0m\u001b[1;33m.\u001b[0m\u001b[0mfp\u001b[0m\u001b[1;33m.\u001b[0m\u001b[0mreadline\u001b[0m\u001b[1;33m(\u001b[0m\u001b[0m_MAXLINE\u001b[0m \u001b[1;33m+\u001b[0m \u001b[1;36m1\u001b[0m\u001b[1;33m)\u001b[0m\u001b[1;33m,\u001b[0m \u001b[1;34m\"iso-8859-1\"\u001b[0m\u001b[1;33m)\u001b[0m\u001b[1;33m\u001b[0m\u001b[1;33m\u001b[0m\u001b[0m\n\u001b[0m\u001b[0;32m    281\u001b[0m         \u001b[1;32mif\u001b[0m \u001b[0mlen\u001b[0m\u001b[1;33m(\u001b[0m\u001b[0mline\u001b[0m\u001b[1;33m)\u001b[0m \u001b[1;33m>\u001b[0m \u001b[0m_MAXLINE\u001b[0m\u001b[1;33m:\u001b[0m\u001b[1;33m\u001b[0m\u001b[1;33m\u001b[0m\u001b[0m\n\u001b[0;32m    282\u001b[0m             \u001b[1;32mraise\u001b[0m \u001b[0mLineTooLong\u001b[0m\u001b[1;33m(\u001b[0m\u001b[1;34m\"status line\"\u001b[0m\u001b[1;33m)\u001b[0m\u001b[1;33m\u001b[0m\u001b[1;33m\u001b[0m\u001b[0m\n",
      "\u001b[1;32mC:\\ProgramData\\Anaconda3\\lib\\socket.py\u001b[0m in \u001b[0;36mreadinto\u001b[1;34m(self, b)\u001b[0m\n\u001b[0;32m    702\u001b[0m         \u001b[1;32mwhile\u001b[0m \u001b[1;32mTrue\u001b[0m\u001b[1;33m:\u001b[0m\u001b[1;33m\u001b[0m\u001b[1;33m\u001b[0m\u001b[0m\n\u001b[0;32m    703\u001b[0m             \u001b[1;32mtry\u001b[0m\u001b[1;33m:\u001b[0m\u001b[1;33m\u001b[0m\u001b[1;33m\u001b[0m\u001b[0m\n\u001b[1;32m--> 704\u001b[1;33m                 \u001b[1;32mreturn\u001b[0m \u001b[0mself\u001b[0m\u001b[1;33m.\u001b[0m\u001b[0m_sock\u001b[0m\u001b[1;33m.\u001b[0m\u001b[0mrecv_into\u001b[0m\u001b[1;33m(\u001b[0m\u001b[0mb\u001b[0m\u001b[1;33m)\u001b[0m\u001b[1;33m\u001b[0m\u001b[1;33m\u001b[0m\u001b[0m\n\u001b[0m\u001b[0;32m    705\u001b[0m             \u001b[1;32mexcept\u001b[0m \u001b[0mtimeout\u001b[0m\u001b[1;33m:\u001b[0m\u001b[1;33m\u001b[0m\u001b[1;33m\u001b[0m\u001b[0m\n\u001b[0;32m    706\u001b[0m                 \u001b[0mself\u001b[0m\u001b[1;33m.\u001b[0m\u001b[0m_timeout_occurred\u001b[0m \u001b[1;33m=\u001b[0m \u001b[1;32mTrue\u001b[0m\u001b[1;33m\u001b[0m\u001b[1;33m\u001b[0m\u001b[0m\n",
      "\u001b[1;31mKeyboardInterrupt\u001b[0m: "
     ]
    }
   ],
   "source": [
    "#MAIN\n",
    "#reset dataframe\n",
    "df = pd.DataFrame(columns=['Name','price','rating','#rating' , 'link'])\n",
    "#collect all data and create df with all data\n",
    "df=scrape_page(df)\n",
    "for i in range(2,20):\n",
    "    #s-pagination-item s-pagination-next s-pagination-button s-pagination-separator\n",
    "    page_button = driver.find_element(By.XPATH, '//a[@class=\"s-pagination-item s-pagination-next s-pagination-button s-pagination-separator\"]')\n",
    "    page_button.click()\n",
    "    df=scrape_page(df)\n",
    "    time.sleep(2)\n",
    "driver.quit()\n",
    "\n",
    "#send data to the channel   \n",
    "send_data()\n"
   ]
  },
  {
   "cell_type": "code",
   "execution_count": 81,
   "id": "676307cc",
   "metadata": {},
   "outputs": [
    {
     "name": "stdout",
     "output_type": "stream",
     "text": [
      "[\"Amaboo 10.1'' WiFi Digital Picture Frames Smart Cloud IPS Touch Screen HD Display 16GB Storage Auto-Rotate Photo Frame with Video/Pictures Share by Frameo APP, Wood Grain Black/White\", 'Inventory Scanner,JRHC Wireless Barcode Scanner 2.4G Portable Handheld 1D Laser Barcode Reader for Scanning Collection and Inventory Management with 2.2 inch LCD Screen for Library,Warehouse, Store', '(2 Units) Wireless Presenter Remote, Clicker for Laptop PowerPoint Presentations Pointer, RF Computer Clicker for Presentations Remote, Slideshow/Smartboard/College/Classroom/PPT Clicker', 'Rechargeable Remote Presentation Clicker for Mac, Long Range Wireless Presenter Remote Google Slide Clickers, PPT/PowerPoint Clicker with Red Pointer Laptop/Computer/Classroom/Office', 'Skullcandy Sesh True Wireless In-Ear Earbuds - Black', 'MYDASH 10.1 inch Digital Picture Frame with WiFi - Black Digital Photo Frame 1280x800 HD IPS Touch Screen with 32GB Storage, Auto-Rotate, Wall Mountable, Share Photos via Frameo, Email, Smart Cloud', 'Wireless Backup Camera, DOUXURY IP69 Waterproof 170° Wide View Angle HD 1080P Backup Camera + HD LCD 7\" Monitor, Digital Wireless Backup Camera System for RV Truck 5th Wheel Trailer Pickup Camper Bus', 'Zacoora Portable 1D 2D Barcode Scanner Wireless Bluetooth 3-in-1 Handheld Barcode Reader, Rechargeable1D 2D QR pdf417 Scanner Gun']\n",
      "[]\n",
      "['89.99', '79.99', '19.99', '8.99', '29.92', '99.99', '139.99', '56.99']\n",
      "['4.5 out of 5 stars', '3.8 out of 5 stars', 0, '1.0 out of 5 stars', '4.1 out of 5 stars', '4.3 out of 5 stars', '4.5 out of 5 stars', 0]\n",
      "['32', '8', '0', '1', '37,803', '220', '516', '0']\n",
      "[]\n"
     ]
    }
   ],
   "source": [
    "# to check data scraped\n",
    "print(product_name)\n",
    "print(product_asin)\n",
    "print(product_price)\n",
    "print(product_ratings)\n",
    "print(product_ratings_num)\n",
    "print(product_link)"
   ]
  },
  {
   "cell_type": "code",
   "execution_count": 82,
   "id": "f9ceba06",
   "metadata": {},
   "outputs": [
    {
     "name": "stdout",
     "output_type": "stream",
     "text": [
      "                                                Name   price  \\\n",
      "0  Amaboo 10.1'' WiFi Digital Picture Frames Smar...   89.99   \n",
      "1  Inventory Scanner,JRHC Wireless Barcode Scanne...   79.99   \n",
      "2  (2 Units) Wireless Presenter Remote, Clicker f...   19.99   \n",
      "3  Rechargeable Remote Presentation Clicker for M...    8.99   \n",
      "4  Skullcandy Sesh True Wireless In-Ear Earbuds -...   29.92   \n",
      "5  MYDASH 10.1 inch Digital Picture Frame with Wi...   99.99   \n",
      "6  Wireless Backup Camera, DOUXURY IP69 Waterproo...  139.99   \n",
      "7  Zacoora Portable 1D 2D Barcode Scanner Wireles...   56.99   \n",
      "\n",
      "               rating #rating  \\\n",
      "0  4.5 out of 5 stars      32   \n",
      "1  3.8 out of 5 stars       8   \n",
      "2                   0       0   \n",
      "3  1.0 out of 5 stars       1   \n",
      "4  4.1 out of 5 stars  37,803   \n",
      "5  4.3 out of 5 stars     220   \n",
      "6  4.5 out of 5 stars     516   \n",
      "7                   0       0   \n",
      "\n",
      "                                                link  \n",
      "0  https://www.amazon.com/gp/slredirect/picassoRe...  \n",
      "1  https://www.amazon.com/JBL-Tune-510BT-Ear-Head...  \n",
      "2  https://www.amazon.com/gp/slredirect/picassoRe...  \n",
      "3  https://www.amazon.com/Warners-Womens-Effects-...  \n",
      "4  https://www.amazon.com/SMONET-Wireless-Securit...  \n",
      "5  https://www.amazon.com/Bose-SoundLink-Bluetoot...  \n",
      "6  https://www.amazon.com/AA-Wireless-Adapter-And...  \n",
      "7  https://www.amazon.com/gp/slredirect/picassoRe...  \n"
     ]
    }
   ],
   "source": [
    "print(df)"
   ]
  },
  {
   "cell_type": "markdown",
   "id": "fc32bbd1",
   "metadata": {},
   "source": [
    "DA QUI IN GIU TUTTO IL CODICE PER TESTARE"
   ]
  },
  {
   "cell_type": "code",
   "execution_count": null,
   "id": "4c3608c5",
   "metadata": {},
   "outputs": [],
   "source": [
    "#tutti i link della pagina\n",
    "links = driver.find_elements(By.XPATH, '//a[@class=\"a-link-normal s-underline-text s-underline-link-text s-link-style a-text-normal\"]')\n",
    "l=[]\n",
    "for link in links:\n",
    "    value = link.get_attribute('href')\n",
    "    print(value)\n",
    "    l.append(value)\n",
    "print(\"_________________________________________________________\")\n",
    "print(l)\n"
   ]
  },
  {
   "cell_type": "code",
   "execution_count": null,
   "id": "448f7b21",
   "metadata": {},
   "outputs": [],
   "source": [
    "#legge tutte le righe del df\n",
    "for row in df.itertuples():\n",
    "    print(row.link)\n",
    "    print(row.Index)"
   ]
  },
  {
   "cell_type": "code",
   "execution_count": null,
   "id": "a7fa5530",
   "metadata": {},
   "outputs": [],
   "source": [
    "#serve a mandare i messaggi sul canale\n",
    "import time\n",
    "import schedule\n",
    "import requests\n",
    "\n",
    "import requests\n",
    "TOKEN = \"5532274185:AAGE8CQOwV6i6VtER1xBAfhciVv4WBDSLWA\"\n",
    "chat_id = \"-1001774376845\"\n",
    "text = \"ciaooooo\"\n",
    "url = f\"https://api.telegram.org/bot{TOKEN}/sendMessage?chat_id={chat_id}&text={text}\"\n",
    "# url = f\"https://api.telegram.org/bot{TOKEN}/getUpdates\"\n",
    "r = requests.get(url)\n",
    "print(r.json())"
   ]
  },
  {
   "cell_type": "code",
   "execution_count": 51,
   "id": "f6781bd0",
   "metadata": {},
   "outputs": [
    {
     "ename": "NoSuchElementException",
     "evalue": "Message: no such element: Unable to locate element: {\"method\":\"xpath\",\"selector\":\"//a[@class=\"s-pagination-item s-pagination-next s-pagination-button s-pagination-separator\"]\"}\n  (Session info: chrome=103.0.5060.134)\nStacktrace:\nBacktrace:\n\tOrdinal0 [0x00276463+2188387]\n\tOrdinal0 [0x0020E461+1762401]\n\tOrdinal0 [0x00123D78+802168]\n\tOrdinal0 [0x00151880+989312]\n\tOrdinal0 [0x00151B1B+989979]\n\tOrdinal0 [0x0017E912+1173778]\n\tOrdinal0 [0x0016C824+1099812]\n\tOrdinal0 [0x0017CC22+1166370]\n\tOrdinal0 [0x0016C5F6+1099254]\n\tOrdinal0 [0x00146BE0+945120]\n\tOrdinal0 [0x00147AD6+948950]\n\tGetHandleVerifier [0x005171F2+2712546]\n\tGetHandleVerifier [0x0050886D+2652765]\n\tGetHandleVerifier [0x0030002A+520730]\n\tGetHandleVerifier [0x002FEE06+516086]\n\tOrdinal0 [0x0021468B+1787531]\n\tOrdinal0 [0x00218E88+1805960]\n\tOrdinal0 [0x00218F75+1806197]\n\tOrdinal0 [0x00221DF1+1842673]\n\tBaseThreadInitThunk [0x7619FA29+25]\n\tRtlGetAppContainerNamedObjectPath [0x77A87A9E+286]\n\tRtlGetAppContainerNamedObjectPath [0x77A87A6E+238]\n\t(No symbol) [0x00000000]\n",
     "output_type": "error",
     "traceback": [
      "\u001b[1;31m---------------------------------------------------------------------------\u001b[0m",
      "\u001b[1;31mNoSuchElementException\u001b[0m                    Traceback (most recent call last)",
      "\u001b[1;32m~\\AppData\\Local\\Temp/ipykernel_8200/2899945461.py\u001b[0m in \u001b[0;36m<module>\u001b[1;34m\u001b[0m\n\u001b[0;32m      1\u001b[0m \u001b[1;32mfor\u001b[0m \u001b[0mi\u001b[0m \u001b[1;32min\u001b[0m \u001b[0mrange\u001b[0m\u001b[1;33m(\u001b[0m\u001b[1;36m2\u001b[0m\u001b[1;33m,\u001b[0m\u001b[1;36m20\u001b[0m\u001b[1;33m)\u001b[0m\u001b[1;33m:\u001b[0m\u001b[1;33m\u001b[0m\u001b[1;33m\u001b[0m\u001b[0m\n\u001b[0;32m      2\u001b[0m     \u001b[1;31m#s-pagination-item s-pagination-next s-pagination-button s-pagination-separator\u001b[0m\u001b[1;33m\u001b[0m\u001b[1;33m\u001b[0m\u001b[0m\n\u001b[1;32m----> 3\u001b[1;33m     \u001b[0mpage_button\u001b[0m \u001b[1;33m=\u001b[0m \u001b[0mdriver\u001b[0m\u001b[1;33m.\u001b[0m\u001b[0mfind_element\u001b[0m\u001b[1;33m(\u001b[0m\u001b[0mBy\u001b[0m\u001b[1;33m.\u001b[0m\u001b[0mXPATH\u001b[0m\u001b[1;33m,\u001b[0m \u001b[1;34m'//a[@class=\"s-pagination-item s-pagination-next s-pagination-button s-pagination-separator\"]'\u001b[0m\u001b[1;33m)\u001b[0m\u001b[1;33m\u001b[0m\u001b[1;33m\u001b[0m\u001b[0m\n\u001b[0m\u001b[0;32m      4\u001b[0m     \u001b[0mpage_button\u001b[0m\u001b[1;33m.\u001b[0m\u001b[0mclick\u001b[0m\u001b[1;33m(\u001b[0m\u001b[1;33m)\u001b[0m\u001b[1;33m\u001b[0m\u001b[1;33m\u001b[0m\u001b[0m\n\u001b[0;32m      5\u001b[0m     \u001b[0mtime\u001b[0m\u001b[1;33m.\u001b[0m\u001b[0msleep\u001b[0m\u001b[1;33m(\u001b[0m\u001b[1;36m2\u001b[0m\u001b[1;33m)\u001b[0m\u001b[1;33m\u001b[0m\u001b[1;33m\u001b[0m\u001b[0m\n",
      "\u001b[1;32mC:\\ProgramData\\Anaconda3\\lib\\site-packages\\selenium\\webdriver\\remote\\webdriver.py\u001b[0m in \u001b[0;36mfind_element\u001b[1;34m(self, by, value)\u001b[0m\n\u001b[0;32m    855\u001b[0m             \u001b[0mvalue\u001b[0m \u001b[1;33m=\u001b[0m \u001b[1;34m'[name=\"%s\"]'\u001b[0m \u001b[1;33m%\u001b[0m \u001b[0mvalue\u001b[0m\u001b[1;33m\u001b[0m\u001b[1;33m\u001b[0m\u001b[0m\n\u001b[0;32m    856\u001b[0m \u001b[1;33m\u001b[0m\u001b[0m\n\u001b[1;32m--> 857\u001b[1;33m         return self.execute(Command.FIND_ELEMENT, {\n\u001b[0m\u001b[0;32m    858\u001b[0m             \u001b[1;34m'using'\u001b[0m\u001b[1;33m:\u001b[0m \u001b[0mby\u001b[0m\u001b[1;33m,\u001b[0m\u001b[1;33m\u001b[0m\u001b[1;33m\u001b[0m\u001b[0m\n\u001b[0;32m    859\u001b[0m             'value': value})['value']\n",
      "\u001b[1;32mC:\\ProgramData\\Anaconda3\\lib\\site-packages\\selenium\\webdriver\\remote\\webdriver.py\u001b[0m in \u001b[0;36mexecute\u001b[1;34m(self, driver_command, params)\u001b[0m\n\u001b[0;32m    433\u001b[0m         \u001b[0mresponse\u001b[0m \u001b[1;33m=\u001b[0m \u001b[0mself\u001b[0m\u001b[1;33m.\u001b[0m\u001b[0mcommand_executor\u001b[0m\u001b[1;33m.\u001b[0m\u001b[0mexecute\u001b[0m\u001b[1;33m(\u001b[0m\u001b[0mdriver_command\u001b[0m\u001b[1;33m,\u001b[0m \u001b[0mparams\u001b[0m\u001b[1;33m)\u001b[0m\u001b[1;33m\u001b[0m\u001b[1;33m\u001b[0m\u001b[0m\n\u001b[0;32m    434\u001b[0m         \u001b[1;32mif\u001b[0m \u001b[0mresponse\u001b[0m\u001b[1;33m:\u001b[0m\u001b[1;33m\u001b[0m\u001b[1;33m\u001b[0m\u001b[0m\n\u001b[1;32m--> 435\u001b[1;33m             \u001b[0mself\u001b[0m\u001b[1;33m.\u001b[0m\u001b[0merror_handler\u001b[0m\u001b[1;33m.\u001b[0m\u001b[0mcheck_response\u001b[0m\u001b[1;33m(\u001b[0m\u001b[0mresponse\u001b[0m\u001b[1;33m)\u001b[0m\u001b[1;33m\u001b[0m\u001b[1;33m\u001b[0m\u001b[0m\n\u001b[0m\u001b[0;32m    436\u001b[0m             response['value'] = self._unwrap_value(\n\u001b[0;32m    437\u001b[0m                 response.get('value', None))\n",
      "\u001b[1;32mC:\\ProgramData\\Anaconda3\\lib\\site-packages\\selenium\\webdriver\\remote\\errorhandler.py\u001b[0m in \u001b[0;36mcheck_response\u001b[1;34m(self, response)\u001b[0m\n\u001b[0;32m    245\u001b[0m                 \u001b[0malert_text\u001b[0m \u001b[1;33m=\u001b[0m \u001b[0mvalue\u001b[0m\u001b[1;33m[\u001b[0m\u001b[1;34m'alert'\u001b[0m\u001b[1;33m]\u001b[0m\u001b[1;33m.\u001b[0m\u001b[0mget\u001b[0m\u001b[1;33m(\u001b[0m\u001b[1;34m'text'\u001b[0m\u001b[1;33m)\u001b[0m\u001b[1;33m\u001b[0m\u001b[1;33m\u001b[0m\u001b[0m\n\u001b[0;32m    246\u001b[0m             \u001b[1;32mraise\u001b[0m \u001b[0mexception_class\u001b[0m\u001b[1;33m(\u001b[0m\u001b[0mmessage\u001b[0m\u001b[1;33m,\u001b[0m \u001b[0mscreen\u001b[0m\u001b[1;33m,\u001b[0m \u001b[0mstacktrace\u001b[0m\u001b[1;33m,\u001b[0m \u001b[0malert_text\u001b[0m\u001b[1;33m)\u001b[0m  \u001b[1;31m# type: ignore[call-arg]  # mypy is not smart enough here\u001b[0m\u001b[1;33m\u001b[0m\u001b[1;33m\u001b[0m\u001b[0m\n\u001b[1;32m--> 247\u001b[1;33m         \u001b[1;32mraise\u001b[0m \u001b[0mexception_class\u001b[0m\u001b[1;33m(\u001b[0m\u001b[0mmessage\u001b[0m\u001b[1;33m,\u001b[0m \u001b[0mscreen\u001b[0m\u001b[1;33m,\u001b[0m \u001b[0mstacktrace\u001b[0m\u001b[1;33m)\u001b[0m\u001b[1;33m\u001b[0m\u001b[1;33m\u001b[0m\u001b[0m\n\u001b[0m\u001b[0;32m    248\u001b[0m \u001b[1;33m\u001b[0m\u001b[0m\n\u001b[0;32m    249\u001b[0m     \u001b[1;32mdef\u001b[0m \u001b[0m_value_or_default\u001b[0m\u001b[1;33m(\u001b[0m\u001b[0mself\u001b[0m\u001b[1;33m,\u001b[0m \u001b[0mobj\u001b[0m\u001b[1;33m:\u001b[0m \u001b[0mMapping\u001b[0m\u001b[1;33m[\u001b[0m\u001b[0m_KT\u001b[0m\u001b[1;33m,\u001b[0m \u001b[0m_VT\u001b[0m\u001b[1;33m]\u001b[0m\u001b[1;33m,\u001b[0m \u001b[0mkey\u001b[0m\u001b[1;33m:\u001b[0m \u001b[0m_KT\u001b[0m\u001b[1;33m,\u001b[0m \u001b[0mdefault\u001b[0m\u001b[1;33m:\u001b[0m \u001b[0m_VT\u001b[0m\u001b[1;33m)\u001b[0m \u001b[1;33m->\u001b[0m \u001b[0m_VT\u001b[0m\u001b[1;33m:\u001b[0m\u001b[1;33m\u001b[0m\u001b[1;33m\u001b[0m\u001b[0m\n",
      "\u001b[1;31mNoSuchElementException\u001b[0m: Message: no such element: Unable to locate element: {\"method\":\"xpath\",\"selector\":\"//a[@class=\"s-pagination-item s-pagination-next s-pagination-button s-pagination-separator\"]\"}\n  (Session info: chrome=103.0.5060.134)\nStacktrace:\nBacktrace:\n\tOrdinal0 [0x00276463+2188387]\n\tOrdinal0 [0x0020E461+1762401]\n\tOrdinal0 [0x00123D78+802168]\n\tOrdinal0 [0x00151880+989312]\n\tOrdinal0 [0x00151B1B+989979]\n\tOrdinal0 [0x0017E912+1173778]\n\tOrdinal0 [0x0016C824+1099812]\n\tOrdinal0 [0x0017CC22+1166370]\n\tOrdinal0 [0x0016C5F6+1099254]\n\tOrdinal0 [0x00146BE0+945120]\n\tOrdinal0 [0x00147AD6+948950]\n\tGetHandleVerifier [0x005171F2+2712546]\n\tGetHandleVerifier [0x0050886D+2652765]\n\tGetHandleVerifier [0x0030002A+520730]\n\tGetHandleVerifier [0x002FEE06+516086]\n\tOrdinal0 [0x0021468B+1787531]\n\tOrdinal0 [0x00218E88+1805960]\n\tOrdinal0 [0x00218F75+1806197]\n\tOrdinal0 [0x00221DF1+1842673]\n\tBaseThreadInitThunk [0x7619FA29+25]\n\tRtlGetAppContainerNamedObjectPath [0x77A87A9E+286]\n\tRtlGetAppContainerNamedObjectPath [0x77A87A6E+238]\n\t(No symbol) [0x00000000]\n"
     ]
    }
   ],
   "source": [
    "for i in range(2,20):\n",
    "    #s-pagination-item s-pagination-next s-pagination-button s-pagination-separator\n",
    "    page_button = driver.find_element(By.XPATH, '//a[@class=\"s-pagination-item s-pagination-next s-pagination-button s-pagination-separator\"]')\n",
    "    page_button.click()\n",
    "    time.sleep(2)\n",
    "\n"
   ]
  }
 ],
 "metadata": {
  "kernelspec": {
   "display_name": "Python 3 (ipykernel)",
   "language": "python",
   "name": "python3"
  },
  "language_info": {
   "codemirror_mode": {
    "name": "ipython",
    "version": 3
   },
   "file_extension": ".py",
   "mimetype": "text/x-python",
   "name": "python",
   "nbconvert_exporter": "python",
   "pygments_lexer": "ipython3",
   "version": "3.9.7"
  }
 },
 "nbformat": 4,
 "nbformat_minor": 5
}
