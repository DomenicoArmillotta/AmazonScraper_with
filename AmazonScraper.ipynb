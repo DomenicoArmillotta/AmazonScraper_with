{
 "cells": [
  {
   "cell_type": "markdown",
   "id": "a0942bd1",
   "metadata": {},
   "source": [
    "This script will scrape all the product on one selected keyword and will send all the \"deals\" (the item with price below the average) in the channel of deals on Telegram.\n",
    "The link for the deals channel is : https://t.me/dealsonamazonpro"
   ]
  },
  {
   "cell_type": "code",
   "execution_count": 1,
   "id": "0713f4bd",
   "metadata": {},
   "outputs": [],
   "source": [
    "#import all library\n",
    "from selenium import webdriver\n",
    "from selenium.webdriver.common.by import By\n",
    "from selenium.webdriver.support.ui import WebDriverWait \n",
    "from selenium.webdriver.support import expected_conditions as EC\n",
    "\n",
    "from selenium import webdriver\n",
    "from selenium.webdriver.chrome.service import Service\n",
    "from selenium.webdriver.common.by import By\n",
    "from selenium.webdriver.support.ui import WebDriverWait as wait\n",
    "from selenium.webdriver.support import expected_conditions as EC\n",
    "import pandas as pd\n",
    "import time\n",
    "import time\n",
    "import schedule\n",
    "import requests\n",
    "import seaborn as sns\n",
    "import numpy as np\n",
    "from selenium.webdriver.edge.options import Options\n",
    "import matplotlib.pyplot as plt\n",
    "\n",
    "\n"
   ]
  },
  {
   "cell_type": "markdown",
   "id": "23908692",
   "metadata": {},
   "source": [
    "## Broswer CHROME ##"
   ]
  },
  {
   "cell_type": "code",
   "execution_count": null,
   "id": "90b7f472",
   "metadata": {},
   "outputs": [],
   "source": [
    "# assign your website to scrape , in this case amazon\n",
    "web = 'https://www.amazon.com'\n",
    "options = webdriver.ChromeOptions()\n",
    "\n",
    "driver = webdriver.Chrome()\n",
    "driver.get(web)\n",
    "\n",
    "driver.implicitly_wait(5)\n",
    "# select the keyword to Scrape\n",
    "keyword = \"wireless\"\n",
    "search = driver.find_element(By.ID, 'twotabsearchtextbox')\n",
    "search.send_keys(keyword)\n",
    "# click search button\n",
    "search_button = driver.find_element(By.ID, 'nav-search-submit-button')\n",
    "search_button.click()\n",
    "\n",
    "driver.implicitly_wait(5)"
   ]
  },
  {
   "cell_type": "markdown",
   "id": "b27681db",
   "metadata": {},
   "source": [
    "# Broswer Edge \n",
    "you need to download the Microsoft Edge WebDriver file of the right version of your broswer.\n",
    "Here is the link : https://developer.microsoft.com/en-us/microsoft-edge/tools/webdriver/"
   ]
  },
  {
   "cell_type": "code",
   "execution_count": 32,
   "id": "589f03bb",
   "metadata": {},
   "outputs": [],
   "source": [
    "def searchOnAmazon(keyword):\n",
    "    # create object\n",
    "    #options = Options()\n",
    "    #options.add_experimental_option(\"detach\", True)\n",
    "\n",
    "    # open browser and navigate to facebook\n",
    "    web = 'https://www.amazon.com'\n",
    "    driver.get(web)\n",
    "    driver.implicitly_wait(25)\n",
    "    # select the keyword to Scrape\n",
    "    search = driver.find_element(By.ID, 'twotabsearchtextbox')\n",
    "    search.send_keys(keyword)\n",
    "    # click search button\n",
    "    search_button = driver.find_element(By.ID, 'nav-search-submit-button')\n",
    "    search_button.click()\n",
    "    driver.implicitly_wait(5)\n",
    "    \n",
    "    \n"
   ]
  },
  {
   "cell_type": "code",
   "execution_count": 124,
   "id": "ce6e3d50",
   "metadata": {},
   "outputs": [],
   "source": [
    "#SCRAping function\n",
    "#we made 2 cycle , to identify the page across amazon , the first page have  different xpath , the pages after 2 have the same xpath\n",
    "def scrape(num_items):\n",
    "    #we create a dataframe to collect all data scraped\n",
    "    product_name = []\n",
    "    product_asin = []\n",
    "    product_price = []\n",
    "    product_ratings = []\n",
    "    product_ratings_num = []\n",
    "    product_link = []\n",
    "    product_page = []\n",
    "    link = []\n",
    "    link_image = []\n",
    "    df = pd.DataFrame(columns=['Name','price','rating','#rating' , 'link' , 'page' , 'link_image','discount'])\n",
    "    df = pd.DataFrame(columns=['Name','price','rating','#rating' , 'link' , 'page' , 'link_image' , 'discount'])\n",
    "    #collect all data and create df with all data\n",
    "    count = 0\n",
    "    \n",
    "    for i in range(1,20):\n",
    "        #the item are the boxes of the product\n",
    "        # find link\n",
    "        boxlinks = driver.find_elements(By.XPATH, '//a[@class=\"a-link-normal s-underline-text s-underline-link-text s-link-style a-text-normal\"]')\n",
    "        for boxlink in boxlinks:\n",
    "            link.append(boxlink.get_attribute('href'))\n",
    "\n",
    "        # find link image\n",
    "        boxlinks = driver.find_elements(By.XPATH, './/img[@class=\"s-image\"]')\n",
    "        for boxlink in boxlinks:\n",
    "            link_image.append(boxlink.get_attribute('src'))\n",
    "        \n",
    "        items = wait(driver, 10).until(EC.presence_of_all_elements_located((By.XPATH, '//div[contains(@class, \"s-result-item s-asin\")]')))\n",
    "        for item in items:\n",
    "            count = count +1\n",
    "            if count > num_items:\n",
    "                return df\n",
    "            # find name\n",
    "            name = item.find_element(By.XPATH, './/span[@class=\"a-size-medium a-color-base a-text-normal\"]')\n",
    "            product_name.append(name.text)\n",
    "\n",
    "            # find price\n",
    "            whole_price = item.find_elements(By.XPATH, './/span[@class=\"a-price-whole\"]')\n",
    "            fraction_price = item.find_elements(By.XPATH, './/span[@class=\"a-price-fraction\"]')\n",
    "            \n",
    "    \n",
    "\n",
    "            if whole_price != [] and fraction_price != []:\n",
    "                price = '.'.join([whole_price[0].text, fraction_price[0].text])\n",
    "            else:\n",
    "                price = 0\n",
    "            product_price.append(price)\n",
    "            \n",
    "            # to continue\n",
    "            discount = None\n",
    "\n",
    "            # find ratings box\n",
    "            ratings_box = item.find_elements(By.XPATH, './/div[@class=\"a-row a-size-small\"]/span')\n",
    "\n",
    "            # find ratings and ratings_num\n",
    "            if ratings_box != []:\n",
    "                ratings = ratings_box[0].get_attribute('aria-label')\n",
    "                ratings_num = ratings_box[1].get_attribute('aria-label')\n",
    "            else:\n",
    "                ratings, ratings_num = 0, 0\n",
    "\n",
    "            product_ratings.append(ratings)\n",
    "            product_ratings_num.append(str(ratings_num))\n",
    "            page = i\n",
    "            product_page.append(page)\n",
    "            #add a line on dataframe\n",
    "            new_row = {'Name':name.text, 'price':str(price), 'rating':str(ratings), '#rating':str(ratings_num) , 'link':link[count-1] , 'link_image':link_image[count-1] , 'page':page , 'discount':discount}\n",
    "            df = df.append(new_row, ignore_index=True)\n",
    "        page_button = driver.find_element(By.XPATH, '//a[@class=\"s-pagination-item s-pagination-next s-pagination-button s-pagination-separator\"]')\n",
    "        page_button.click()\n",
    "        time.sleep(2)  \n",
    "            \n",
    "    driver.quit()\n",
    "    #convert rating in cutted string\n",
    "    for i, row in df.iterrows():\n",
    "        ifor_val = 2\n",
    "        txt=df.at[i,'rating']\n",
    "        x = str(txt).split(\" \", 1)\n",
    "        df.at[i,'rating'] = str(x[0])\n",
    "\n",
    "    #send data to the channel   \n",
    "    #send_data()\n",
    "    return df\n",
    "    \n",
    "\n"
   ]
  },
  {
   "cell_type": "code",
   "execution_count": 82,
   "id": "f8a7d1e8",
   "metadata": {},
   "outputs": [],
   "source": [
    "def avg_price() : \n",
    "    #Analyze price - rating\n",
    "    for i, row in df.iterrows():\n",
    "        ifor_val = 2\n",
    "        txt=df.at[i,'rating']\n",
    "        x = str(txt).split(\".\", 1)\n",
    "        df.at[i,'rating'] = str(x[0])\n",
    "    import seaborn as sns\n",
    "    import numpy as np\n",
    "    df['price'] = df['price'].astype(np.float)\n",
    "    df['rating'] = df['rating'].astype(np.float)\n",
    "    avg = df[\"price\"].mean()\n",
    "    print(avg)\n",
    "    graph=sns.barplot(y=df['price'], x=df['rating'])\n",
    "    graph.axhline(avg)\n",
    "    return avg\n",
    "\n"
   ]
  },
  {
   "cell_type": "code",
   "execution_count": 83,
   "id": "32447bb0",
   "metadata": {},
   "outputs": [],
   "source": [
    "#ritorna i prodotti con un prezzo inferiore ad una threshold\n",
    "def item_below_threshold(treshold , df) : \n",
    "    df = df[df['price'] <= treshold]\n",
    "    return df"
   ]
  },
  {
   "cell_type": "code",
   "execution_count": 84,
   "id": "4ec1c5d3",
   "metadata": {},
   "outputs": [],
   "source": [
    "#we send data as message on channel on telegram --> da rivedere perchè non funziona\n",
    "#step:\n",
    "# 1. create bot and extract token\n",
    "# 2. add the bot to a new channel and extract the chat_id\n",
    "def send_data(df):\n",
    "    TOKEN = \"5532274185:AAGE8CQOwV6i6VtER1xBAfhciVv4WBDSLWA\"\n",
    "    chat_id = \"-1001774376845\"\n",
    "\n",
    "    for row in df.itertuples():\n",
    "        str_link = row.link\n",
    "        str_name = row.Name\n",
    "        str_price = row.price\n",
    "        print(\"🔴 \",str_price,\" 🔴\",\"\\n\",str_name,\"\\n\",str_link)\n",
    "        text = \"🔴 \"+str(str_price)+\" $\"+\" 🔴\"+\"%0A\"+str_name+\"%0A\"+str_link\n",
    "        #text = \"ciaooooo\"\n",
    "        url = f\"https://api.telegram.org/bot{TOKEN}/sendMessage?chat_id={chat_id}&text={text}\"\n",
    "        #we can select the ratio of messages\n",
    "        time.sleep(2)\n",
    "        r = requests.get(url)\n",
    "        print(r.json())\n"
   ]
  },
  {
   "cell_type": "code",
   "execution_count": 85,
   "id": "d8971bd7",
   "metadata": {},
   "outputs": [],
   "source": [
    "#advanced send message\n",
    "import telebot\n",
    "from telebot import types\n",
    "\n",
    "\n",
    "#we send data as message on channel on telegram --> da rivedere perchè non funziona\n",
    "#step:\n",
    "# 1. create bot and extract token\n",
    "# 2. add the bot to a new channel and extract the chat_id\n",
    "def send_data_2(df):\n",
    "    TOKEN = \"5532274185:AAGE8CQOwV6i6VtER1xBAfhciVv4WBDSLWA\"\n",
    "    chat_id = \"-1001774376845\"\n",
    "    bot = telebot.TeleBot(TOKEN)    #create a new Telegram Bot object\n",
    "\n",
    "    for row in df.itertuples():\n",
    "        str_link = row.link\n",
    "        str_name = row.Name\n",
    "        str_rating = row.rating\n",
    "        str_price = row.price\n",
    "        link_image = row.link_image\n",
    "        print(\"        🔴 \",str_price,\"$   🔴\",\"\\n\",str_name,\"\\n\",str_link)\n",
    "        tg_message_to_send = \"Price =     🔴  \"\n",
    "        tg_message_to_send += str(str_price)\n",
    "        tg_message_to_send += \"$  🔴\"\n",
    "        tg_message_to_send += \"\\n\"\n",
    "        tg_message_to_send += \"Rating =  \"\n",
    "        for x in range(int(str_rating)):\n",
    "            tg_message_to_send += \"⭐\"\n",
    "        tg_message_to_send += \"\\n\"\n",
    "        tg_message_to_send += str_name\n",
    "        \n",
    "        time.sleep(2)\n",
    "        tg_markup = types.InlineKeyboardMarkup(row_width=2)\n",
    "        tg_itembtn1 = types.InlineKeyboardButton(\"👉 Link 👈\", str_link)\n",
    "        tg_markup.add(tg_itembtn1)\n",
    "        bot.send_photo(chat_id,link_image)\n",
    "        bot.send_message(chat_id, tg_message_to_send, parse_mode = 'HTML', reply_markup = tg_markup, disable_web_page_preview=False)\n"
   ]
  },
  {
   "cell_type": "code",
   "execution_count": 86,
   "id": "e30cc821",
   "metadata": {},
   "outputs": [],
   "source": [
    "#send message to channel\n",
    "def send_message(text):\n",
    "    #serve a mandare i messaggi sul canale\n",
    "    import time\n",
    "    import schedule\n",
    "    import requests\n",
    "\n",
    "    import requests\n",
    "    TOKEN = \"5532274185:AAGE8CQOwV6i6VtER1xBAfhciVv4WBDSLWA\"\n",
    "    chat_id = \"-1001774376845\"\n",
    "    url = f\"https://api.telegram.org/bot{TOKEN}/sendMessage?chat_id={chat_id}&text={text}\"\n",
    "    # url = f\"https://api.telegram.org/bot{TOKEN}/getUpdates\"\n",
    "    r = requests.get(url)\n",
    "    print(r.json())"
   ]
  },
  {
   "cell_type": "markdown",
   "id": "6da384ab",
   "metadata": {},
   "source": [
    "# MAIN with single search item (edge)"
   ]
  },
  {
   "cell_type": "code",
   "execution_count": 125,
   "id": "6c593988",
   "metadata": {},
   "outputs": [
    {
     "name": "stderr",
     "output_type": "stream",
     "text": [
      "C:\\Users\\Armillotta\\AppData\\Local\\Temp\\ipykernel_7512\\277399341.py:71: FutureWarning: The frame.append method is deprecated and will be removed from pandas in a future version. Use pandas.concat instead.\n",
      "  df = df.append(new_row, ignore_index=True)\n",
      "C:\\Users\\Armillotta\\AppData\\Local\\Temp\\ipykernel_7512\\277399341.py:71: FutureWarning: The frame.append method is deprecated and will be removed from pandas in a future version. Use pandas.concat instead.\n",
      "  df = df.append(new_row, ignore_index=True)\n",
      "C:\\Users\\Armillotta\\AppData\\Local\\Temp\\ipykernel_7512\\277399341.py:71: FutureWarning: The frame.append method is deprecated and will be removed from pandas in a future version. Use pandas.concat instead.\n",
      "  df = df.append(new_row, ignore_index=True)\n",
      "C:\\Users\\Armillotta\\AppData\\Local\\Temp\\ipykernel_7512\\1536252316.py:10: DeprecationWarning: `np.float` is a deprecated alias for the builtin `float`. To silence this warning, use `float` by itself. Doing this will not modify any behavior and is safe. If you specifically wanted the numpy scalar type, use `np.float64` here.\n",
      "Deprecated in NumPy 1.20; for more details and guidance: https://numpy.org/devdocs/release/1.20.0-notes.html#deprecations\n",
      "  df['price'] = df['price'].astype(np.float)\n",
      "C:\\Users\\Armillotta\\AppData\\Local\\Temp\\ipykernel_7512\\1536252316.py:11: DeprecationWarning: `np.float` is a deprecated alias for the builtin `float`. To silence this warning, use `float` by itself. Doing this will not modify any behavior and is safe. If you specifically wanted the numpy scalar type, use `np.float64` here.\n",
      "Deprecated in NumPy 1.20; for more details and guidance: https://numpy.org/devdocs/release/1.20.0-notes.html#deprecations\n",
      "  df['rating'] = df['rating'].astype(np.float)\n"
     ]
    },
    {
     "name": "stdout",
     "output_type": "stream",
     "text": [
      "                                                Name  price  \\\n",
      "0  Amazon Basics Wireless Computer Mouse with USB...   9.99   \n",
      "1  INPHIC Wireless Mouse 700mAh Large Ergonomic R...  10.65   \n",
      "2  TECKNET Wireless Mouse, 2.4G Ergonomic Optical...   8.79   \n",
      "\n",
      "               rating #rating  \\\n",
      "0  4.5 out of 5 stars  54,905   \n",
      "1  4.3 out of 5 stars  16,121   \n",
      "2  4.5 out of 5 stars  53,251   \n",
      "\n",
      "                                                link page  \\\n",
      "0  https://www.amazon.com/gp/slredirect/picassoRe...    1   \n",
      "1  https://www.amazon.com/gp/slredirect/picassoRe...    1   \n",
      "2  https://www.amazon.com/TeckNet-Ergonomic-Wirel...    1   \n",
      "\n",
      "                                          link_image discount  \n",
      "0  https://m.media-amazon.com/images/I/51jojZahYR...     None  \n",
      "1  https://m.media-amazon.com/images/I/61AWLK29Yr...     None  \n",
      "2  https://m.media-amazon.com/images/I/61tk-+W5dz...     None  \n",
      "9.81\n",
      "                                                Name  price  rating #rating  \\\n",
      "2  TECKNET Wireless Mouse, 2.4G Ergonomic Optical...   8.79     4.0  53,251   \n",
      "\n",
      "                                                link page  \\\n",
      "2  https://www.amazon.com/TeckNet-Ergonomic-Wirel...    1   \n",
      "\n",
      "                                          link_image discount  \n",
      "2  https://m.media-amazon.com/images/I/61tk-+W5dz...     None  \n",
      "        🔴  8.79 $   🔴 \n",
      " TECKNET Wireless Mouse, 2.4G Ergonomic Optical Mouse with USB Nano Receiver for Laptop, PC, Computer, Chromebook, Notebook, 6 Buttons, 24 Months Battery Life, 2600 DPI, 5 Adjustment Levels \n",
      " https://www.amazon.com/TeckNet-Ergonomic-Wireless-Chromebook-Adjustment/dp/B015NBTAOW/ref=sr_1_3?keywords=wireless+mouse&qid=1681764766&sr=8-3\n"
     ]
    },
    {
     "data": {
      "image/png": "[encoded data removed]",
      "text/plain": [
       "<Figure size 640x480 with 1 Axes>"
      ]
     },
     "metadata": {},
     "output_type": "display_data"
    }
   ],
   "source": [
    "'''\n",
    "This pipeline made the following steps :\n",
    "    0. Set the scraper \n",
    "    1. Start the scraper on the website for the keyword\n",
    "    2. Filter the result below the average\n",
    "    3. Send result to telegram\n",
    "'''\n",
    "#0. Settings\n",
    "#select number of item to scrape\n",
    "num_of_item_to_scrape = 3\n",
    "#select the keyword to scrape\n",
    "\n",
    "keyword = \"wireless mouse\"\n",
    "\n",
    "driver = webdriver.Edge(r\"C:\\Users\\Armillotta\\Downloads\\msedgedriver.exe\")\n",
    "\n",
    "searchOnAmazon(keyword)\n",
    "\n",
    "#1. Scraping\n",
    "df = pd.DataFrame(columns=['Name','price','rating','#rating' , 'link' ,'link_image', 'page','discount'])  \n",
    "\n",
    "df = scrape(num_of_item_to_scrape)\n",
    "print(df)\n",
    "\n",
    "\n",
    "#2. return all item below the avg\n",
    "avg = avg_price()\n",
    "df_below_avg = pd.DataFrame(columns=['Name','price','rating','#rating' , 'link' ,'link_image', 'page','discount'])  \n",
    "\n",
    "df_below_avg = item_below_threshold(avg , df)\n",
    "print(df_below_avg)\n",
    "\n",
    "#3. pass the df with item below average to send to channel\n",
    "#text with button\n",
    "send_data_2(df_below_avg) "
   ]
  },
  {
   "cell_type": "code",
   "execution_count": 107,
   "id": "ae765041",
   "metadata": {},
   "outputs": [
    {
     "data": {
      "text/html": [
       "<div>\n",
       "<style scoped>\n",
       "    .dataframe tbody tr th:only-of-type {\n",
       "        vertical-align: middle;\n",
       "    }\n",
       "\n",
       "    .dataframe tbody tr th {\n",
       "        vertical-align: top;\n",
       "    }\n",
       "\n",
       "    .dataframe thead th {\n",
       "        text-align: right;\n",
       "    }\n",
       "</style>\n",
       "<table border=\"1\" class=\"dataframe\">\n",
       "  <thead>\n",
       "    <tr style=\"text-align: right;\">\n",
       "      <th></th>\n",
       "      <th>Name</th>\n",
       "      <th>price</th>\n",
       "      <th>rating</th>\n",
       "      <th>#rating</th>\n",
       "      <th>link</th>\n",
       "      <th>page</th>\n",
       "      <th>link_image</th>\n",
       "    </tr>\n",
       "  </thead>\n",
       "  <tbody>\n",
       "    <tr>\n",
       "      <th>0</th>\n",
       "      <td>Amazon Basics Wireless Computer Mouse with USB...</td>\n",
       "      <td>9.99</td>\n",
       "      <td>4.0</td>\n",
       "      <td>54,905</td>\n",
       "      <td>https://www.amazon.com/gp/slredirect/picassoRe...</td>\n",
       "      <td>1</td>\n",
       "      <td>https://m.media-amazon.com/images/I/51jojZahYR...</td>\n",
       "    </tr>\n",
       "    <tr>\n",
       "      <th>1</th>\n",
       "      <td>WisFox 2.4G Wireless Mouse for Laptop, Ergonom...</td>\n",
       "      <td>11.99</td>\n",
       "      <td>4.0</td>\n",
       "      <td>3,587</td>\n",
       "      <td>https://www.amazon.com/gp/slredirect/picassoRe...</td>\n",
       "      <td>1</td>\n",
       "      <td>https://m.media-amazon.com/images/I/714+t9HR4G...</td>\n",
       "    </tr>\n",
       "    <tr>\n",
       "      <th>2</th>\n",
       "      <td>Logitech MX Anywhere 2S Mouse Graphite, Wirele...</td>\n",
       "      <td>58.00</td>\n",
       "      <td>4.0</td>\n",
       "      <td>137</td>\n",
       "      <td>https://www.amazon.com/Logitech-Anywhere-Graph...</td>\n",
       "      <td>1</td>\n",
       "      <td>https://m.media-amazon.com/images/I/6170mJHIsY...</td>\n",
       "    </tr>\n",
       "  </tbody>\n",
       "</table>\n",
       "</div>"
      ],
      "text/plain": [
       "                                                Name  price  rating #rating  \\\n",
       "0  Amazon Basics Wireless Computer Mouse with USB...   9.99     4.0  54,905   \n",
       "1  WisFox 2.4G Wireless Mouse for Laptop, Ergonom...  11.99     4.0   3,587   \n",
       "2  Logitech MX Anywhere 2S Mouse Graphite, Wirele...  58.00     4.0     137   \n",
       "\n",
       "                                                link page  \\\n",
       "0  https://www.amazon.com/gp/slredirect/picassoRe...    1   \n",
       "1  https://www.amazon.com/gp/slredirect/picassoRe...    1   \n",
       "2  https://www.amazon.com/Logitech-Anywhere-Graph...    1   \n",
       "\n",
       "                                          link_image  \n",
       "0  https://m.media-amazon.com/images/I/51jojZahYR...  \n",
       "1  https://m.media-amazon.com/images/I/714+t9HR4G...  \n",
       "2  https://m.media-amazon.com/images/I/6170mJHIsY...  "
      ]
     },
     "execution_count": 107,
     "metadata": {},
     "output_type": "execute_result"
    }
   ],
   "source": [
    "#________________________TESTS__________________\n",
    "\n",
    "\n",
    "df"
   ]
  },
  {
   "cell_type": "code",
   "execution_count": null,
   "id": "9e2e6cf6",
   "metadata": {},
   "outputs": [],
   "source": []
  },
  {
   "cell_type": "code",
   "execution_count": null,
   "id": "a30efb29",
   "metadata": {},
   "outputs": [],
   "source": []
  },
  {
   "cell_type": "code",
   "execution_count": null,
   "id": "b8a2bd7c",
   "metadata": {},
   "outputs": [],
   "source": []
  },
  {
   "cell_type": "code",
   "execution_count": null,
   "id": "4f8ffcc3",
   "metadata": {},
   "outputs": [],
   "source": []
  },
  {
   "cell_type": "code",
   "execution_count": null,
   "id": "894c3faf",
   "metadata": {},
   "outputs": [],
   "source": []
  },
  {
   "cell_type": "code",
   "execution_count": 41,
   "id": "32f00cc2",
   "metadata": {},
   "outputs": [
    {
     "data": {
      "image/png": "[encoded data removed]",
      "text/plain": [
       "<Figure size 640x480 with 1 Axes>"
      ]
     },
     "metadata": {},
     "output_type": "display_data"
    }
   ],
   "source": [
    "import matplotlib.pyplot as plt\n",
    "\n",
    "plt.hist(df['price'], bins=3)\n",
    "plt.title('Distribuzione dei prezzi')\n",
    "plt.xlabel('Prezzo')\n",
    "plt.ylabel('Frequenza')\n",
    "plt.show()\n"
   ]
  },
  {
   "cell_type": "code",
   "execution_count": 50,
   "id": "dde76c29",
   "metadata": {},
   "outputs": [
    {
     "data": {
      "image/png": "[encoded data removed]",
      "text/plain": [
       "<Figure size 640x480 with 1 Axes>"
      ]
     },
     "metadata": {},
     "output_type": "display_data"
    }
   ],
   "source": [
    "import matplotlib.pyplot as plt\n",
    "\n",
    "counts = df['rating'].value_counts()\n",
    "plt.pie(counts.values, labels=counts.index, autopct='%1.1f%%')\n",
    "plt.title('Distribuzione dei prodotti per rating medio')\n",
    "plt.show()\n"
   ]
  },
  {
   "cell_type": "code",
   "execution_count": 52,
   "id": "3c14e324",
   "metadata": {},
   "outputs": [
    {
     "data": {
      "image/png": "[encoded data removed]",
      "text/plain": [
       "<Figure size 640x480 with 1 Axes>"
      ]
     },
     "metadata": {},
     "output_type": "display_data"
    }
   ],
   "source": [
    "import seaborn as sns\n",
    "\n",
    "sns.boxplot(x='page', y='price', data=df)\n",
    "plt.title('Distribuzione dei prezzi per pagina')\n",
    "plt.xlabel('Pagina')\n",
    "plt.ylabel('Prezzo')\n",
    "plt.show()\n"
   ]
  },
  {
   "cell_type": "code",
   "execution_count": 54,
   "id": "f379b43f",
   "metadata": {},
   "outputs": [
    {
     "data": {
      "image/png": "[encoded data removed]",
      "text/plain": [
       "<Figure size 640x480 with 1 Axes>"
      ]
     },
     "metadata": {},
     "output_type": "display_data"
    }
   ],
   "source": [
    "import seaborn as sns\n",
    "\n",
    "sns.scatterplot(x='price', y='rating', data=df, hue='page')\n",
    "plt.title('Prezzo vs Rating medio')\n",
    "plt.xlabel('Prezzo')\n",
    "plt.ylabel('Rating medio')\n",
    "plt.show()\n"
   ]
  },
  {
   "cell_type": "markdown",
   "id": "5d3ec88a",
   "metadata": {},
   "source": [
    "# MAIN with multiple search item (edge)"
   ]
  },
  {
   "cell_type": "code",
   "execution_count": 82,
   "id": "ebca6594",
   "metadata": {},
   "outputs": [
    {
     "name": "stdout",
     "output_type": "stream",
     "text": [
      "pc_portatile\n"
     ]
    },
    {
     "name": "stderr",
     "output_type": "stream",
     "text": [
      "C:\\Users\\Armillotta\\AppData\\Local\\Temp\\ipykernel_20392\\2630575205.py:57: FutureWarning: The frame.append method is deprecated and will be removed from pandas in a future version. Use pandas.concat instead.\n",
      "  df = df.append(new_row, ignore_index=True)\n",
      "C:\\Users\\Armillotta\\AppData\\Local\\Temp\\ipykernel_20392\\2630575205.py:57: FutureWarning: The frame.append method is deprecated and will be removed from pandas in a future version. Use pandas.concat instead.\n",
      "  df = df.append(new_row, ignore_index=True)\n",
      "C:\\Users\\Armillotta\\AppData\\Local\\Temp\\ipykernel_20392\\2630575205.py:57: FutureWarning: The frame.append method is deprecated and will be removed from pandas in a future version. Use pandas.concat instead.\n",
      "  df = df.append(new_row, ignore_index=True)\n",
      "C:\\Users\\Armillotta\\AppData\\Local\\Temp\\ipykernel_20392\\2630575205.py:57: FutureWarning: The frame.append method is deprecated and will be removed from pandas in a future version. Use pandas.concat instead.\n",
      "  df = df.append(new_row, ignore_index=True)\n",
      "C:\\Users\\Armillotta\\AppData\\Local\\Temp\\ipykernel_20392\\2630575205.py:57: FutureWarning: The frame.append method is deprecated and will be removed from pandas in a future version. Use pandas.concat instead.\n",
      "  df = df.append(new_row, ignore_index=True)\n",
      "C:\\Users\\Armillotta\\AppData\\Local\\Temp\\ipykernel_20392\\2630575205.py:57: FutureWarning: The frame.append method is deprecated and will be removed from pandas in a future version. Use pandas.concat instead.\n",
      "  df = df.append(new_row, ignore_index=True)\n",
      "C:\\Users\\Armillotta\\AppData\\Local\\Temp\\ipykernel_20392\\2630575205.py:57: FutureWarning: The frame.append method is deprecated and will be removed from pandas in a future version. Use pandas.concat instead.\n",
      "  df = df.append(new_row, ignore_index=True)\n",
      "C:\\Users\\Armillotta\\AppData\\Local\\Temp\\ipykernel_20392\\2630575205.py:57: FutureWarning: The frame.append method is deprecated and will be removed from pandas in a future version. Use pandas.concat instead.\n",
      "  df = df.append(new_row, ignore_index=True)\n",
      "C:\\Users\\Armillotta\\AppData\\Local\\Temp\\ipykernel_20392\\2630575205.py:57: FutureWarning: The frame.append method is deprecated and will be removed from pandas in a future version. Use pandas.concat instead.\n",
      "  df = df.append(new_row, ignore_index=True)\n",
      "C:\\Users\\Armillotta\\AppData\\Local\\Temp\\ipykernel_20392\\2630575205.py:57: FutureWarning: The frame.append method is deprecated and will be removed from pandas in a future version. Use pandas.concat instead.\n",
      "  df = df.append(new_row, ignore_index=True)\n"
     ]
    },
    {
     "name": "stdout",
     "output_type": "stream",
     "text": [
      "                                                Name   price rating #rating  \\\n",
      "0  Acer Aspire Vero AV15-51-7617 Green PC | 15.6\"...  509.99    4.4     401   \n",
      "1  CHUWI HeroBox Mini PC,Windows 11 Mini Desktop ...  149.00    4.0     875   \n",
      "2  Lenovo 2022 Newest Ideapad 3 Laptop, 15.6\" HD ...  382.00    4.4   2,538   \n",
      "3  Microsoft Surface Laptop Go 12.4in Touchscreen...  255.00    4.4     331   \n",
      "4  ASUS E410 Intel Celeron N4020 4GB 64GB 14-Inch...  185.00    4.2     477   \n",
      "5  CHUWI HeroBook Pro 14.1'' Laptop, 8GB RAM 256G...  199.99    3.9   1,613   \n",
      "6  ASUS Chromebook CX1, 14\" Full HD NanoEdge Disp...  174.00    3.9      84   \n",
      "7  Lenovo 2022 Newest 14\" HD Laptop Computer for ...  199.00    4.1      29   \n",
      "8  Newest HP 2-in-1 Convertible Chromebook, 14inc...  208.00    4.7      22   \n",
      "9  HP 14-inch Chromebook HD Touchscreen Laptop PC...  230.00    4.5   2,530   \n",
      "\n",
      "                                                link page  \n",
      "0  https://www.amazon.com/gp/slredirect/picassoRe...    1  \n",
      "1  https://www.amazon.com/gp/slredirect/picassoRe...    1  \n",
      "2  https://www.amazon.com/gp/slredirect/picassoRe...    1  \n",
      "3  https://www.amazon.com/gp/slredirect/picassoRe...    1  \n",
      "4  https://www.amazon.com/gp/slredirect/picassoRe...    1  \n",
      "5  https://www.amazon.com/gp/slredirect/picassoRe...    1  \n",
      "6  https://www.amazon.com/gp/slredirect/picassoRe...    1  \n",
      "7  https://www.amazon.com/gp/slredirect/picassoRe...    1  \n",
      "8  https://www.amazon.com/gp/slredirect/picassoRe...    1  \n",
      "9  https://www.amazon.com/gp/slredirect/picassoRe...    1  \n",
      "249.198\n",
      "                                                Name   price  rating #rating  \\\n",
      "1  CHUWI HeroBox Mini PC,Windows 11 Mini Desktop ...  149.00     4.0     875   \n",
      "4  ASUS E410 Intel Celeron N4020 4GB 64GB 14-Inch...  185.00     4.0     477   \n",
      "5  CHUWI HeroBook Pro 14.1'' Laptop, 8GB RAM 256G...  199.99     3.0   1,613   \n",
      "6  ASUS Chromebook CX1, 14\" Full HD NanoEdge Disp...  174.00     3.0      84   \n",
      "7  Lenovo 2022 Newest 14\" HD Laptop Computer for ...  199.00     4.0      29   \n",
      "8  Newest HP 2-in-1 Convertible Chromebook, 14inc...  208.00     4.0      22   \n",
      "9  HP 14-inch Chromebook HD Touchscreen Laptop PC...  230.00     4.0   2,530   \n",
      "\n",
      "                                                link page  \n",
      "1  https://www.amazon.com/gp/slredirect/picassoRe...    1  \n",
      "4  https://www.amazon.com/gp/slredirect/picassoRe...    1  \n",
      "5  https://www.amazon.com/gp/slredirect/picassoRe...    1  \n",
      "6  https://www.amazon.com/gp/slredirect/picassoRe...    1  \n",
      "7  https://www.amazon.com/gp/slredirect/picassoRe...    1  \n",
      "8  https://www.amazon.com/gp/slredirect/picassoRe...    1  \n",
      "9  https://www.amazon.com/gp/slredirect/picassoRe...    1  \n",
      "🔴  149.0  🔴 \n",
      " CHUWI HeroBox Mini PC,Windows 11 Mini Desktop Computer,Intel 11th Gen N5100 Quad Core Processor(2.9GHz), 8GB RAM 256GB SSD,Dual WiFi/BT/Gigabit Ethernet/VESA / 4K UHD/USB 3.0/Up to 2TB SSD \n",
      " https://www.amazon.com/gp/slredirect/picassoRedirect.html/ref=pa_sp_btf_aps_sr_pg1_1?ie=UTF8&adId=A06002171VQVSV1JTTAW6&qualifier=1681066583&id=2784409618689306&widgetName=sp_btf&url=%2FALLDOCUBE-11st-gen-JasperLake-Bluetooth-Keyboard%2Fdp%2FB0BVTHHTPF%2Fref%3Dsr_1_22_sspa%3Fkeywords%3Dpc%2Bportatile%26qid%3D1681066583%26sr%3D8-22-spons%26psc%3D1\n"
     ]
    },
    {
     "name": "stderr",
     "output_type": "stream",
     "text": [
      "C:\\Users\\Armillotta\\AppData\\Local\\Temp\\ipykernel_20392\\1536252316.py:10: DeprecationWarning: `np.float` is a deprecated alias for the builtin `float`. To silence this warning, use `float` by itself. Doing this will not modify any behavior and is safe. If you specifically wanted the numpy scalar type, use `np.float64` here.\n",
      "Deprecated in NumPy 1.20; for more details and guidance: https://numpy.org/devdocs/release/1.20.0-notes.html#deprecations\n",
      "  df['price'] = df['price'].astype(np.float)\n",
      "C:\\Users\\Armillotta\\AppData\\Local\\Temp\\ipykernel_20392\\1536252316.py:11: DeprecationWarning: `np.float` is a deprecated alias for the builtin `float`. To silence this warning, use `float` by itself. Doing this will not modify any behavior and is safe. If you specifically wanted the numpy scalar type, use `np.float64` here.\n",
      "Deprecated in NumPy 1.20; for more details and guidance: https://numpy.org/devdocs/release/1.20.0-notes.html#deprecations\n",
      "  df['rating'] = df['rating'].astype(np.float)\n"
     ]
    },
    {
     "name": "stdout",
     "output_type": "stream",
     "text": [
      "{'ok': True, 'result': {'message_id': 79, 'sender_chat': {'id': -1001774376845, 'title': 'Deals on Amazon', 'username': 'dealsonamazonpro', 'type': 'channel'}, 'chat': {'id': -1001774376845, 'title': 'Deals on Amazon', 'username': 'dealsonamazonpro', 'type': 'channel'}, 'date': 1681066593, 'text': '🔴 149.0 $ 🔴\\nCHUWI HeroBox Mini PC,Windows 11 Mini Desktop Computer,Intel 11th Gen N5100 Quad Core Processor(2.9GHz), 8GB RAM 256GB SSD,Dual WiFi/BT/Gigabit Ethernet/VESA / 4K UHD/USB 3.0/Up to 2TB SSD\\nhttps://www.amazon.com/gp/slredirect/picassoRedirect.html/ref=pa_sp_btf_aps_sr_pg1_1?ie=UTF8', 'entities': [{'offset': 203, 'length': 92, 'type': 'url'}]}}\n",
      "🔴  185.0  🔴 \n",
      " ASUS E410 Intel Celeron N4020 4GB 64GB 14-Inch HD LED Win 10 Laptop (Star Black) \n",
      " https://www.amazon.com/gp/slredirect/picassoRedirect.html/ref=pa_sp_btf_aps_sr_pg1_1?ie=UTF8&adId=A06002171VQVSV1JTTAW6&qualifier=1681066583&id=2784409618689306&widgetName=sp_btf&url=%2FALLDOCUBE-11st-gen-JasperLake-Bluetooth-Keyboard%2Fdp%2FB0BVTHHTPF%2Fref%3Dsr_1_22_sspa%3Fkeywords%3Dpc%2Bportatile%26qid%3D1681066583%26sr%3D8-22-spons%26psc%3D1\n",
      "{'ok': True, 'result': {'message_id': 80, 'sender_chat': {'id': -1001774376845, 'title': 'Deals on Amazon', 'username': 'dealsonamazonpro', 'type': 'channel'}, 'chat': {'id': -1001774376845, 'title': 'Deals on Amazon', 'username': 'dealsonamazonpro', 'type': 'channel'}, 'date': 1681066596, 'text': '🔴 185.0 $ 🔴\\nASUS E410 Intel Celeron N4020 4GB 64GB 14-Inch HD LED Win 10 Laptop (Star Black)\\nhttps://www.amazon.com/gp/slredirect/picassoRedirect.html/ref=pa_sp_btf_aps_sr_pg1_1?ie=UTF8', 'entities': [{'offset': 95, 'length': 92, 'type': 'url'}]}}\n",
      "🔴  199.99  🔴 \n",
      " CHUWI HeroBook Pro 14.1'' Laptop, 8GB RAM 256GB SSD, Windows 11 Laptop, 1TB SSD Expand, Intel Celeron N4020(up to 2.8GHz), 2K FHD IPS Display, Ultra Slim, Mini-HDMI, 5G WiFi, USB3.0, Webcam,TF Card \n",
      " https://www.amazon.com/gp/slredirect/picassoRedirect.html/ref=pa_sp_btf_aps_sr_pg1_1?ie=UTF8&adId=A06002171VQVSV1JTTAW6&qualifier=1681066583&id=2784409618689306&widgetName=sp_btf&url=%2FALLDOCUBE-11st-gen-JasperLake-Bluetooth-Keyboard%2Fdp%2FB0BVTHHTPF%2Fref%3Dsr_1_22_sspa%3Fkeywords%3Dpc%2Bportatile%26qid%3D1681066583%26sr%3D8-22-spons%26psc%3D1\n",
      "{'ok': True, 'result': {'message_id': 81, 'sender_chat': {'id': -1001774376845, 'title': 'Deals on Amazon', 'username': 'dealsonamazonpro', 'type': 'channel'}, 'chat': {'id': -1001774376845, 'title': 'Deals on Amazon', 'username': 'dealsonamazonpro', 'type': 'channel'}, 'date': 1681066598, 'text': \"🔴 199.99 $ 🔴\\nCHUWI HeroBook Pro 14.1'' Laptop, 8GB RAM 256GB SSD, Windows 11 Laptop, 1TB SSD Expand, Intel Celeron N4020(up to 2.8GHz), 2K FHD IPS Display, Ultra Slim, Mini-HDMI, 5G WiFi, USB3.0, Webcam,TF Card\\nhttps://www.amazon.com/gp/slredirect/picassoRedirect.html/ref=pa_sp_btf_aps_sr_pg1_1?ie=UTF8\", 'entities': [{'offset': 213, 'length': 92, 'type': 'url'}]}}\n",
      "🔴  174.0  🔴 \n",
      " ASUS Chromebook CX1, 14\" Full HD NanoEdge Display, Intel Celeron N3350 Processor, 64GB eMMC Storage, 4GB RAM, Chrome OS, Transparent Silver, CX1400CNA-AS44F \n",
      " https://www.amazon.com/gp/slredirect/picassoRedirect.html/ref=pa_sp_btf_aps_sr_pg1_1?ie=UTF8&adId=A06002171VQVSV1JTTAW6&qualifier=1681066583&id=2784409618689306&widgetName=sp_btf&url=%2FALLDOCUBE-11st-gen-JasperLake-Bluetooth-Keyboard%2Fdp%2FB0BVTHHTPF%2Fref%3Dsr_1_22_sspa%3Fkeywords%3Dpc%2Bportatile%26qid%3D1681066583%26sr%3D8-22-spons%26psc%3D1\n",
      "{'ok': True, 'result': {'message_id': 82, 'sender_chat': {'id': -1001774376845, 'title': 'Deals on Amazon', 'username': 'dealsonamazonpro', 'type': 'channel'}, 'chat': {'id': -1001774376845, 'title': 'Deals on Amazon', 'username': 'dealsonamazonpro', 'type': 'channel'}, 'date': 1681066600, 'text': '🔴 174.0 $ 🔴\\nASUS Chromebook CX1, 14\" Full HD NanoEdge Display, Intel Celeron N3350 Processor, 64GB eMMC Storage, 4GB RAM, Chrome OS, Transparent Silver, CX1400CNA-AS44F\\nhttps://www.amazon.com/gp/slredirect/picassoRedirect.html/ref=pa_sp_btf_aps_sr_pg1_1?ie=UTF8', 'entities': [{'offset': 171, 'length': 92, 'type': 'url'}]}}\n",
      "🔴  199.0  🔴 \n",
      " Lenovo 2022 Newest 14\" HD Laptop Computer for Business Student, Dual-Core Intel Celeron N4020 (Upto 2.8GHZ), 4GB RAM, 64GB eMMC, WiFi, Bluetooth, Webcam, 10+ Hours Battery, Win 11S+MarxsolCables \n",
      " https://www.amazon.com/gp/slredirect/picassoRedirect.html/ref=pa_sp_btf_aps_sr_pg1_1?ie=UTF8&adId=A06002171VQVSV1JTTAW6&qualifier=1681066583&id=2784409618689306&widgetName=sp_btf&url=%2FALLDOCUBE-11st-gen-JasperLake-Bluetooth-Keyboard%2Fdp%2FB0BVTHHTPF%2Fref%3Dsr_1_22_sspa%3Fkeywords%3Dpc%2Bportatile%26qid%3D1681066583%26sr%3D8-22-spons%26psc%3D1\n",
      "{'ok': True, 'result': {'message_id': 83, 'sender_chat': {'id': -1001774376845, 'title': 'Deals on Amazon', 'username': 'dealsonamazonpro', 'type': 'channel'}, 'chat': {'id': -1001774376845, 'title': 'Deals on Amazon', 'username': 'dealsonamazonpro', 'type': 'channel'}, 'date': 1681066603, 'text': '🔴 199.0 $ 🔴\\nLenovo 2022 Newest 14\" HD Laptop Computer for Business Student, Dual-Core Intel Celeron N4020 (Upto 2.8GHZ), 4GB RAM, 64GB eMMC, WiFi, Bluetooth, Webcam, 10  Hours Battery, Win 11S MarxsolCables\\nhttps://www.amazon.com/gp/slredirect/picassoRedirect.html/ref=pa_sp_btf_aps_sr_pg1_1?ie=UTF8', 'entities': [{'offset': 209, 'length': 92, 'type': 'url'}]}}\n",
      "🔴  208.0  🔴 \n",
      " Newest HP 2-in-1 Convertible Chromebook, 14inch HD Touchscreen, Intel Processor Up to 2.80GHz, 4GB Ram, 64GB eMMC SSD, WiFi, Webcam, Chrome OS, (Renewed) (64GB) (Silver) \n",
      " https://www.amazon.com/gp/slredirect/picassoRedirect.html/ref=pa_sp_btf_aps_sr_pg1_1?ie=UTF8&adId=A06002171VQVSV1JTTAW6&qualifier=1681066583&id=2784409618689306&widgetName=sp_btf&url=%2FALLDOCUBE-11st-gen-JasperLake-Bluetooth-Keyboard%2Fdp%2FB0BVTHHTPF%2Fref%3Dsr_1_22_sspa%3Fkeywords%3Dpc%2Bportatile%26qid%3D1681066583%26sr%3D8-22-spons%26psc%3D1\n",
      "{'ok': True, 'result': {'message_id': 84, 'sender_chat': {'id': -1001774376845, 'title': 'Deals on Amazon', 'username': 'dealsonamazonpro', 'type': 'channel'}, 'chat': {'id': -1001774376845, 'title': 'Deals on Amazon', 'username': 'dealsonamazonpro', 'type': 'channel'}, 'date': 1681066605, 'text': '🔴 208.0 $ 🔴\\nNewest HP 2-in-1 Convertible Chromebook, 14inch HD Touchscreen, Intel Processor Up to 2.80GHz, 4GB Ram, 64GB eMMC SSD, WiFi, Webcam, Chrome OS, (Renewed) (64GB) (Silver)\\nhttps://www.amazon.com/gp/slredirect/picassoRedirect.html/ref=pa_sp_btf_aps_sr_pg1_1?ie=UTF8', 'entities': [{'offset': 184, 'length': 92, 'type': 'url'}]}}\n",
      "🔴  230.0  🔴 \n",
      " HP 14-inch Chromebook HD Touchscreen Laptop PC (Intel Celeron N3350 up to 2.4GHz, 4GB RAM, 32GB Flash Memory, WiFi, HD Camera, Bluetooth, Up to 10 hrs Battery Life, Chrome OS , Black) \n",
      " https://www.amazon.com/gp/slredirect/picassoRedirect.html/ref=pa_sp_btf_aps_sr_pg1_1?ie=UTF8&adId=A06002171VQVSV1JTTAW6&qualifier=1681066583&id=2784409618689306&widgetName=sp_btf&url=%2FALLDOCUBE-11st-gen-JasperLake-Bluetooth-Keyboard%2Fdp%2FB0BVTHHTPF%2Fref%3Dsr_1_22_sspa%3Fkeywords%3Dpc%2Bportatile%26qid%3D1681066583%26sr%3D8-22-spons%26psc%3D1\n",
      "{'ok': True, 'result': {'message_id': 85, 'sender_chat': {'id': -1001774376845, 'title': 'Deals on Amazon', 'username': 'dealsonamazonpro', 'type': 'channel'}, 'chat': {'id': -1001774376845, 'title': 'Deals on Amazon', 'username': 'dealsonamazonpro', 'type': 'channel'}, 'date': 1681066608, 'text': '🔴 230.0 $ 🔴\\nHP 14-inch Chromebook HD Touchscreen Laptop PC (Intel Celeron N3350 up to 2.4GHz, 4GB RAM, 32GB Flash Memory, WiFi, HD Camera, Bluetooth, Up to 10 hrs Battery Life, Chrome OS , Black)\\nhttps://www.amazon.com/gp/slredirect/picassoRedirect.html/ref=pa_sp_btf_aps_sr_pg1_1?ie=UTF8', 'entities': [{'offset': 198, 'length': 92, 'type': 'url'}]}}\n",
      "mouse wireless\n"
     ]
    },
    {
     "name": "stderr",
     "output_type": "stream",
     "text": [
      "C:\\Users\\Armillotta\\AppData\\Local\\Temp\\ipykernel_20392\\2630575205.py:57: FutureWarning: The frame.append method is deprecated and will be removed from pandas in a future version. Use pandas.concat instead.\n",
      "  df = df.append(new_row, ignore_index=True)\n",
      "C:\\Users\\Armillotta\\AppData\\Local\\Temp\\ipykernel_20392\\2630575205.py:57: FutureWarning: The frame.append method is deprecated and will be removed from pandas in a future version. Use pandas.concat instead.\n",
      "  df = df.append(new_row, ignore_index=True)\n",
      "C:\\Users\\Armillotta\\AppData\\Local\\Temp\\ipykernel_20392\\2630575205.py:57: FutureWarning: The frame.append method is deprecated and will be removed from pandas in a future version. Use pandas.concat instead.\n",
      "  df = df.append(new_row, ignore_index=True)\n",
      "C:\\Users\\Armillotta\\AppData\\Local\\Temp\\ipykernel_20392\\2630575205.py:57: FutureWarning: The frame.append method is deprecated and will be removed from pandas in a future version. Use pandas.concat instead.\n",
      "  df = df.append(new_row, ignore_index=True)\n",
      "C:\\Users\\Armillotta\\AppData\\Local\\Temp\\ipykernel_20392\\2630575205.py:57: FutureWarning: The frame.append method is deprecated and will be removed from pandas in a future version. Use pandas.concat instead.\n",
      "  df = df.append(new_row, ignore_index=True)\n",
      "C:\\Users\\Armillotta\\AppData\\Local\\Temp\\ipykernel_20392\\2630575205.py:57: FutureWarning: The frame.append method is deprecated and will be removed from pandas in a future version. Use pandas.concat instead.\n",
      "  df = df.append(new_row, ignore_index=True)\n",
      "C:\\Users\\Armillotta\\AppData\\Local\\Temp\\ipykernel_20392\\2630575205.py:57: FutureWarning: The frame.append method is deprecated and will be removed from pandas in a future version. Use pandas.concat instead.\n",
      "  df = df.append(new_row, ignore_index=True)\n",
      "C:\\Users\\Armillotta\\AppData\\Local\\Temp\\ipykernel_20392\\2630575205.py:57: FutureWarning: The frame.append method is deprecated and will be removed from pandas in a future version. Use pandas.concat instead.\n",
      "  df = df.append(new_row, ignore_index=True)\n",
      "C:\\Users\\Armillotta\\AppData\\Local\\Temp\\ipykernel_20392\\2630575205.py:57: FutureWarning: The frame.append method is deprecated and will be removed from pandas in a future version. Use pandas.concat instead.\n",
      "  df = df.append(new_row, ignore_index=True)\n",
      "C:\\Users\\Armillotta\\AppData\\Local\\Temp\\ipykernel_20392\\2630575205.py:57: FutureWarning: The frame.append method is deprecated and will be removed from pandas in a future version. Use pandas.concat instead.\n",
      "  df = df.append(new_row, ignore_index=True)\n"
     ]
    },
    {
     "name": "stdout",
     "output_type": "stream",
     "text": [
      "                                                Name  price rating #rating  \\\n",
      "0  Amazon Basics Wireless Computer Mouse with USB...   9.99    4.5  54,721   \n",
      "1  VssoPlor Wireless Mouse, 2.4G Slim Portable Co...  11.98    4.6  15,053   \n",
      "2  TECKNET Wireless Mouse, 2.4G Ergonomic Optical...  10.99    4.5  52,987   \n",
      "3  Logitech M510 Wireless Computer Mouse for PC w...  22.70    4.7  24,533   \n",
      "4  HP X3000 G2 Wireless Mouse - Ambidextrous 3-Bu...  13.89    4.6  20,456   \n",
      "5  INPHIC Wireless Mouse 700mAh Large Ergonomic R...  12.99    4.3  15,931   \n",
      "6  Amazon Basics 3-Button Wired USB Computer Mous...   6.64    4.6  71,684   \n",
      "7  HOTLIFE LED Wireless Mouse, Slim Rechargeable ...   6.95    4.3   5,648   \n",
      "8  【Upgrade】 LED Wireless Mouse, Rechargeable Sli...  10.98    4.2  43,223   \n",
      "9  Logitech G305 LIGHTSPEED Wireless Gaming Mouse...      0    4.7  23,316   \n",
      "\n",
      "                                                link page  \n",
      "0  https://www.amazon.com/gp/slredirect/picassoRe...    1  \n",
      "1  https://www.amazon.com/gp/slredirect/picassoRe...    1  \n",
      "2  https://www.amazon.com/gp/slredirect/picassoRe...    1  \n",
      "3  https://www.amazon.com/gp/slredirect/picassoRe...    1  \n",
      "4  https://www.amazon.com/gp/slredirect/picassoRe...    1  \n",
      "5  https://www.amazon.com/gp/slredirect/picassoRe...    1  \n",
      "6  https://www.amazon.com/gp/slredirect/picassoRe...    1  \n",
      "7  https://www.amazon.com/gp/slredirect/picassoRe...    1  \n",
      "8  https://www.amazon.com/gp/slredirect/picassoRe...    1  \n",
      "9  https://www.amazon.com/gp/slredirect/picassoRe...    1  \n",
      "10.711\n",
      "                                                Name  price  rating #rating  \\\n",
      "0  Amazon Basics Wireless Computer Mouse with USB...   9.99     4.0  54,721   \n",
      "6  Amazon Basics 3-Button Wired USB Computer Mous...   6.64     4.0  71,684   \n",
      "7  HOTLIFE LED Wireless Mouse, Slim Rechargeable ...   6.95     4.0   5,648   \n",
      "9  Logitech G305 LIGHTSPEED Wireless Gaming Mouse...   0.00     4.0  23,316   \n",
      "\n",
      "                                                link page  \n",
      "0  https://www.amazon.com/gp/slredirect/picassoRe...    1  \n",
      "6  https://www.amazon.com/gp/slredirect/picassoRe...    1  \n",
      "7  https://www.amazon.com/gp/slredirect/picassoRe...    1  \n",
      "9  https://www.amazon.com/gp/slredirect/picassoRe...    1  \n",
      "🔴  9.99  🔴 \n",
      " Amazon Basics Wireless Computer Mouse with USB Nano Receiver - Black \n",
      " https://www.amazon.com/gp/slredirect/picassoRedirect.html/ref=pa_sp_btf_aps_sr_pg1_1?ie=UTF8&adId=A0844849GJOJPJQB21TH&qualifier=1681066615&id=3632898567874045&widgetName=sp_btf&url=%2FAmazonBasics-Ergonomic-Wireless-Mouse-adjustable%2Fdp%2FB0787D6SGQ%2Fref%3Dsr_1_22_ffob_sspa%3Fkeywords%3Dmouse%2Bwireless%26qid%3D1681066615%26sr%3D8-22-spons%26psc%3D1\n"
     ]
    },
    {
     "name": "stderr",
     "output_type": "stream",
     "text": [
      "C:\\Users\\Armillotta\\AppData\\Local\\Temp\\ipykernel_20392\\1536252316.py:10: DeprecationWarning: `np.float` is a deprecated alias for the builtin `float`. To silence this warning, use `float` by itself. Doing this will not modify any behavior and is safe. If you specifically wanted the numpy scalar type, use `np.float64` here.\n",
      "Deprecated in NumPy 1.20; for more details and guidance: https://numpy.org/devdocs/release/1.20.0-notes.html#deprecations\n",
      "  df['price'] = df['price'].astype(np.float)\n",
      "C:\\Users\\Armillotta\\AppData\\Local\\Temp\\ipykernel_20392\\1536252316.py:11: DeprecationWarning: `np.float` is a deprecated alias for the builtin `float`. To silence this warning, use `float` by itself. Doing this will not modify any behavior and is safe. If you specifically wanted the numpy scalar type, use `np.float64` here.\n",
      "Deprecated in NumPy 1.20; for more details and guidance: https://numpy.org/devdocs/release/1.20.0-notes.html#deprecations\n",
      "  df['rating'] = df['rating'].astype(np.float)\n"
     ]
    },
    {
     "name": "stdout",
     "output_type": "stream",
     "text": [
      "{'ok': True, 'result': {'message_id': 86, 'sender_chat': {'id': -1001774376845, 'title': 'Deals on Amazon', 'username': 'dealsonamazonpro', 'type': 'channel'}, 'chat': {'id': -1001774376845, 'title': 'Deals on Amazon', 'username': 'dealsonamazonpro', 'type': 'channel'}, 'date': 1681066636, 'text': '🔴 9.99 $ 🔴\\nAmazon Basics Wireless Computer Mouse with USB Nano Receiver - Black\\nhttps://www.amazon.com/gp/slredirect/picassoRedirect.html/ref=pa_sp_btf_aps_sr_pg1_1?ie=UTF8', 'entities': [{'offset': 82, 'length': 92, 'type': 'url'}]}}\n",
      "🔴  6.64  🔴 \n",
      " Amazon Basics 3-Button Wired USB Computer Mouse, Black \n",
      " https://www.amazon.com/gp/slredirect/picassoRedirect.html/ref=pa_sp_btf_aps_sr_pg1_1?ie=UTF8&adId=A0844849GJOJPJQB21TH&qualifier=1681066615&id=3632898567874045&widgetName=sp_btf&url=%2FAmazonBasics-Ergonomic-Wireless-Mouse-adjustable%2Fdp%2FB0787D6SGQ%2Fref%3Dsr_1_22_ffob_sspa%3Fkeywords%3Dmouse%2Bwireless%26qid%3D1681066615%26sr%3D8-22-spons%26psc%3D1\n",
      "{'ok': True, 'result': {'message_id': 87, 'sender_chat': {'id': -1001774376845, 'title': 'Deals on Amazon', 'username': 'dealsonamazonpro', 'type': 'channel'}, 'chat': {'id': -1001774376845, 'title': 'Deals on Amazon', 'username': 'dealsonamazonpro', 'type': 'channel'}, 'date': 1681066638, 'text': '🔴 6.64 $ 🔴\\nAmazon Basics 3-Button Wired USB Computer Mouse, Black\\nhttps://www.amazon.com/gp/slredirect/picassoRedirect.html/ref=pa_sp_btf_aps_sr_pg1_1?ie=UTF8', 'entities': [{'offset': 68, 'length': 92, 'type': 'url'}]}}\n",
      "🔴  6.95  🔴 \n",
      " HOTLIFE LED Wireless Mouse, Slim Rechargeable Silent Bluetooth Mouse, Portable USB Optical 2.4G Wireless Bluetooth Two Mode Computer Mice with USB Receiver and Type C Adapter (Black) \n",
      " https://www.amazon.com/gp/slredirect/picassoRedirect.html/ref=pa_sp_btf_aps_sr_pg1_1?ie=UTF8&adId=A0844849GJOJPJQB21TH&qualifier=1681066615&id=3632898567874045&widgetName=sp_btf&url=%2FAmazonBasics-Ergonomic-Wireless-Mouse-adjustable%2Fdp%2FB0787D6SGQ%2Fref%3Dsr_1_22_ffob_sspa%3Fkeywords%3Dmouse%2Bwireless%26qid%3D1681066615%26sr%3D8-22-spons%26psc%3D1\n",
      "{'ok': True, 'result': {'message_id': 88, 'sender_chat': {'id': -1001774376845, 'title': 'Deals on Amazon', 'username': 'dealsonamazonpro', 'type': 'channel'}, 'chat': {'id': -1001774376845, 'title': 'Deals on Amazon', 'username': 'dealsonamazonpro', 'type': 'channel'}, 'date': 1681066640, 'text': '🔴 6.95 $ 🔴\\nHOTLIFE LED Wireless Mouse, Slim Rechargeable Silent Bluetooth Mouse, Portable USB Optical 2.4G Wireless Bluetooth Two Mode Computer Mice with USB Receiver and Type C Adapter (Black)\\nhttps://www.amazon.com/gp/slredirect/picassoRedirect.html/ref=pa_sp_btf_aps_sr_pg1_1?ie=UTF8', 'entities': [{'offset': 196, 'length': 92, 'type': 'url'}]}}\n",
      "🔴  0.0  🔴 \n",
      " Logitech G305 LIGHTSPEED Wireless Gaming Mouse, Hero 12K Sensor, 12,000 DPI, Lightweight, 6 Programmable Buttons, 250h Battery Life, On-Board Memory, PC/Mac - Black \n",
      " https://www.amazon.com/gp/slredirect/picassoRedirect.html/ref=pa_sp_btf_aps_sr_pg1_1?ie=UTF8&adId=A0844849GJOJPJQB21TH&qualifier=1681066615&id=3632898567874045&widgetName=sp_btf&url=%2FAmazonBasics-Ergonomic-Wireless-Mouse-adjustable%2Fdp%2FB0787D6SGQ%2Fref%3Dsr_1_22_ffob_sspa%3Fkeywords%3Dmouse%2Bwireless%26qid%3D1681066615%26sr%3D8-22-spons%26psc%3D1\n",
      "{'ok': True, 'result': {'message_id': 89, 'sender_chat': {'id': -1001774376845, 'title': 'Deals on Amazon', 'username': 'dealsonamazonpro', 'type': 'channel'}, 'chat': {'id': -1001774376845, 'title': 'Deals on Amazon', 'username': 'dealsonamazonpro', 'type': 'channel'}, 'date': 1681066643, 'text': '🔴 0.0 $ 🔴\\nLogitech G305 LIGHTSPEED Wireless Gaming Mouse, Hero 12K Sensor, 12,000 DPI, Lightweight, 6 Programmable Buttons, 250h Battery Life, On-Board Memory, PC/Mac - Black\\nhttps://www.amazon.com/gp/slredirect/picassoRedirect.html/ref=pa_sp_btf_aps_sr_pg1_1?ie=UTF8', 'entities': [{'offset': 177, 'length': 92, 'type': 'url'}]}}\n",
      "hard_disk\n"
     ]
    },
    {
     "ename": "KeyboardInterrupt",
     "evalue": "",
     "output_type": "error",
     "traceback": [
      "\u001b[1;31m---------------------------------------------------------------------------\u001b[0m",
      "\u001b[1;31mTimeoutError\u001b[0m                              Traceback (most recent call last)",
      "File \u001b[1;32mC:\\Programmi_installati\\anaconda\\lib\\socket.py:833\u001b[0m, in \u001b[0;36mcreate_connection\u001b[1;34m(address, timeout, source_address)\u001b[0m\n\u001b[0;32m    832\u001b[0m     sock\u001b[38;5;241m.\u001b[39mbind(source_address)\n\u001b[1;32m--> 833\u001b[0m \u001b[43msock\u001b[49m\u001b[38;5;241;43m.\u001b[39;49m\u001b[43mconnect\u001b[49m\u001b[43m(\u001b[49m\u001b[43msa\u001b[49m\u001b[43m)\u001b[49m\n\u001b[0;32m    834\u001b[0m \u001b[38;5;66;03m# Break explicitly a reference cycle\u001b[39;00m\n",
      "\u001b[1;31mTimeoutError\u001b[0m: timed out",
      "\nDuring handling of the above exception, another exception occurred:\n",
      "\u001b[1;31mKeyboardInterrupt\u001b[0m                         Traceback (most recent call last)",
      "Cell \u001b[1;32mIn[82], line 27\u001b[0m\n\u001b[0;32m     25\u001b[0m \u001b[38;5;28mprint\u001b[39m(key)\n\u001b[0;32m     26\u001b[0m search_string \u001b[38;5;241m=\u001b[39m re\u001b[38;5;241m.\u001b[39msub(\u001b[38;5;124m\"\u001b[39m\u001b[38;5;124m_\u001b[39m\u001b[38;5;124m\"\u001b[39m, \u001b[38;5;124m\"\u001b[39m\u001b[38;5;124m \u001b[39m\u001b[38;5;124m\"\u001b[39m, key)\n\u001b[1;32m---> 27\u001b[0m driver \u001b[38;5;241m=\u001b[39m \u001b[43mwebdriver\u001b[49m\u001b[38;5;241;43m.\u001b[39;49m\u001b[43mEdge\u001b[49m\u001b[43m(\u001b[49m\u001b[38;5;124;43mr\u001b[39;49m\u001b[38;5;124;43m\"\u001b[39;49m\u001b[38;5;124;43mC:\u001b[39;49m\u001b[38;5;124;43m\\\u001b[39;49m\u001b[38;5;124;43mUsers\u001b[39;49m\u001b[38;5;124;43m\\\u001b[39;49m\u001b[38;5;124;43mArmillotta\u001b[39;49m\u001b[38;5;124;43m\\\u001b[39;49m\u001b[38;5;124;43mDownloads\u001b[39;49m\u001b[38;5;124;43m\\\u001b[39;49m\u001b[38;5;124;43mmsedgedriver.exe\u001b[39;49m\u001b[38;5;124;43m\"\u001b[39;49m\u001b[43m)\u001b[49m\n\u001b[0;32m     28\u001b[0m searchOnAmazon(search_string)\n\u001b[0;32m     30\u001b[0m \u001b[38;5;66;03m#scraping\u001b[39;00m\n",
      "File \u001b[1;32m~\\AppData\\Roaming\\Python\\Python310\\site-packages\\selenium\\webdriver\\edge\\webdriver.py:56\u001b[0m, in \u001b[0;36mWebDriver.__init__\u001b[1;34m(self, executable_path, capabilities, port, verbose, service_log_path, log_path, keep_alive)\u001b[0m\n\u001b[0;32m     53\u001b[0m     \u001b[38;5;28mself\u001b[39m\u001b[38;5;241m.\u001b[39mport \u001b[38;5;241m=\u001b[39m utils\u001b[38;5;241m.\u001b[39mfree_port()\n\u001b[0;32m     55\u001b[0m \u001b[38;5;28mself\u001b[39m\u001b[38;5;241m.\u001b[39medge_service \u001b[38;5;241m=\u001b[39m Service(executable_path, port\u001b[38;5;241m=\u001b[39m\u001b[38;5;28mself\u001b[39m\u001b[38;5;241m.\u001b[39mport, verbose\u001b[38;5;241m=\u001b[39mverbose, log_path\u001b[38;5;241m=\u001b[39mservice_log_path)\n\u001b[1;32m---> 56\u001b[0m \u001b[38;5;28;43mself\u001b[39;49m\u001b[38;5;241;43m.\u001b[39;49m\u001b[43medge_service\u001b[49m\u001b[38;5;241;43m.\u001b[39;49m\u001b[43mstart\u001b[49m\u001b[43m(\u001b[49m\u001b[43m)\u001b[49m\n\u001b[0;32m     58\u001b[0m \u001b[38;5;28;01mif\u001b[39;00m capabilities \u001b[38;5;129;01mis\u001b[39;00m \u001b[38;5;28;01mNone\u001b[39;00m:\n\u001b[0;32m     59\u001b[0m     capabilities \u001b[38;5;241m=\u001b[39m DesiredCapabilities\u001b[38;5;241m.\u001b[39mEDGE\n",
      "File \u001b[1;32m~\\AppData\\Roaming\\Python\\Python310\\site-packages\\selenium\\webdriver\\common\\service.py:99\u001b[0m, in \u001b[0;36mService.start\u001b[1;34m(self)\u001b[0m\n\u001b[0;32m     97\u001b[0m \u001b[38;5;28;01mwhile\u001b[39;00m \u001b[38;5;28;01mTrue\u001b[39;00m:\n\u001b[0;32m     98\u001b[0m     \u001b[38;5;28mself\u001b[39m\u001b[38;5;241m.\u001b[39massert_process_still_running()\n\u001b[1;32m---> 99\u001b[0m     \u001b[38;5;28;01mif\u001b[39;00m \u001b[38;5;28;43mself\u001b[39;49m\u001b[38;5;241;43m.\u001b[39;49m\u001b[43mis_connectable\u001b[49m\u001b[43m(\u001b[49m\u001b[43m)\u001b[49m:\n\u001b[0;32m    100\u001b[0m         \u001b[38;5;28;01mbreak\u001b[39;00m\n\u001b[0;32m    101\u001b[0m     count \u001b[38;5;241m+\u001b[39m\u001b[38;5;241m=\u001b[39m \u001b[38;5;241m1\u001b[39m\n",
      "File \u001b[1;32m~\\AppData\\Roaming\\Python\\Python310\\site-packages\\selenium\\webdriver\\common\\service.py:115\u001b[0m, in \u001b[0;36mService.is_connectable\u001b[1;34m(self)\u001b[0m\n\u001b[0;32m    114\u001b[0m \u001b[38;5;28;01mdef\u001b[39;00m \u001b[38;5;21mis_connectable\u001b[39m(\u001b[38;5;28mself\u001b[39m):\n\u001b[1;32m--> 115\u001b[0m     \u001b[38;5;28;01mreturn\u001b[39;00m \u001b[43mutils\u001b[49m\u001b[38;5;241;43m.\u001b[39;49m\u001b[43mis_connectable\u001b[49m\u001b[43m(\u001b[49m\u001b[38;5;28;43mself\u001b[39;49m\u001b[38;5;241;43m.\u001b[39;49m\u001b[43mport\u001b[49m\u001b[43m)\u001b[49m\n",
      "File \u001b[1;32m~\\AppData\\Roaming\\Python\\Python310\\site-packages\\selenium\\webdriver\\common\\utils.py:106\u001b[0m, in \u001b[0;36mis_connectable\u001b[1;34m(port, host)\u001b[0m\n\u001b[0;32m    104\u001b[0m socket_ \u001b[38;5;241m=\u001b[39m \u001b[38;5;28;01mNone\u001b[39;00m\n\u001b[0;32m    105\u001b[0m \u001b[38;5;28;01mtry\u001b[39;00m:\n\u001b[1;32m--> 106\u001b[0m     socket_ \u001b[38;5;241m=\u001b[39m \u001b[43msocket\u001b[49m\u001b[38;5;241;43m.\u001b[39;49m\u001b[43mcreate_connection\u001b[49m\u001b[43m(\u001b[49m\u001b[43m(\u001b[49m\u001b[43mhost\u001b[49m\u001b[43m,\u001b[49m\u001b[43m \u001b[49m\u001b[43mport\u001b[49m\u001b[43m)\u001b[49m\u001b[43m,\u001b[49m\u001b[43m \u001b[49m\u001b[38;5;241;43m1\u001b[39;49m\u001b[43m)\u001b[49m\n\u001b[0;32m    107\u001b[0m     result \u001b[38;5;241m=\u001b[39m \u001b[38;5;28;01mTrue\u001b[39;00m\n\u001b[0;32m    108\u001b[0m \u001b[38;5;28;01mexcept\u001b[39;00m socket\u001b[38;5;241m.\u001b[39merror:\n",
      "File \u001b[1;32mC:\\Programmi_installati\\anaconda\\lib\\socket.py:833\u001b[0m, in \u001b[0;36mcreate_connection\u001b[1;34m(address, timeout, source_address)\u001b[0m\n\u001b[0;32m    831\u001b[0m \u001b[38;5;28;01mif\u001b[39;00m source_address:\n\u001b[0;32m    832\u001b[0m     sock\u001b[38;5;241m.\u001b[39mbind(source_address)\n\u001b[1;32m--> 833\u001b[0m \u001b[43msock\u001b[49m\u001b[38;5;241;43m.\u001b[39;49m\u001b[43mconnect\u001b[49m\u001b[43m(\u001b[49m\u001b[43msa\u001b[49m\u001b[43m)\u001b[49m\n\u001b[0;32m    834\u001b[0m \u001b[38;5;66;03m# Break explicitly a reference cycle\u001b[39;00m\n\u001b[0;32m    835\u001b[0m err \u001b[38;5;241m=\u001b[39m \u001b[38;5;28;01mNone\u001b[39;00m\n",
      "\u001b[1;31mKeyboardInterrupt\u001b[0m: "
     ]
    },
    {
     "data": {
      "image/png": "[encoded data removed]",
      "text/plain": [
       "<Figure size 640x480 with 1 Axes>"
      ]
     },
     "metadata": {},
     "output_type": "display_data"
    }
   ],
   "source": [
    "#crea un dizionario di parole chiavi da ricercare , per ogni parola chiave:\n",
    "# 1. fa lo scraping e mette in un dataframe\n",
    "# 2. calcola l'avg\n",
    "# 3. filtra i risultati\n",
    "# 4. li manda sul canale telegram\n",
    "\n",
    "#ATTENZIONE = il nome da ricercare metterlo sul dizionario separato con \"_\" , che verra sostituito con lo spazio\n",
    "import pandas as pd\n",
    "import re\n",
    "\n",
    "\n",
    "# Creazione di due dataframe\n",
    "df1 = pd.DataFrame(columns=['Name','price','rating','#rating' , 'link' , 'page'])\n",
    "df2 = pd.DataFrame(columns=['Name','price','rating','#rating' , 'link' , 'page'])\n",
    "df3 = pd.DataFrame(columns=['Name','price','rating','#rating' , 'link' , 'page'])\n",
    "\n",
    "\n",
    "# Creazione del dizionario di dataframe\n",
    "my_dict = {'pc_portatile': df1, 'mouse wireless': df2 , 'hard_disk': df3}\n",
    "\n",
    "# Iterazione su tutte le chiavi del dizionario\n",
    "for key in my_dict.keys():\n",
    "    # Accesso al dataframe tramite la chiave\n",
    "    df = my_dict[key]\n",
    "    print(key)\n",
    "    search_string = re.sub(\"_\", \" \", key)\n",
    "    driver = webdriver.Edge(r\"C:\\Users\\Armillotta\\Downloads\\msedgedriver.exe\")\n",
    "    searchOnAmazon(search_string)\n",
    "    \n",
    "    #scraping\n",
    "    df = pd.DataFrame(columns=['Name','price','rating','#rating' , 'link' , 'page'])  \n",
    "    num_of_item_to_scrape = 10\n",
    "    df = scrape(num_of_item_to_scrape)\n",
    "    print(df)\n",
    "    \n",
    "    #return all item below the avg\n",
    "    avg = avg_price()\n",
    "    df_below_avg = pd.DataFrame(columns=['Name','price','rating','#rating' , 'link' , 'page'])  \n",
    "\n",
    "    df_below_avg = item_below_threshold(avg , df)\n",
    "    print(df_below_avg)\n",
    "\n",
    "    #pass the df with item below average to send to channel\n",
    "    #channelName = dealsonamazonpro\n",
    "    send_data_2(df_below_avg) #--> with button\n",
    "    "
   ]
  },
  {
   "cell_type": "code",
   "execution_count": null,
   "id": "b1ba4c9f",
   "metadata": {},
   "outputs": [],
   "source": []
  }
 ],
 "metadata": {
  "kernelspec": {
   "display_name": "Python 3 (ipykernel)",
   "language": "python",
   "name": "python3"
  },
  "language_info": {
   "codemirror_mode": {
    "name": "ipython",
    "version": 3
   },
   "file_extension": ".py",
   "mimetype": "text/x-python",
   "name": "python",
   "nbconvert_exporter": "python",
   "pygments_lexer": "ipython3",
   "version": "3.10.9"
  }
 },
 "nbformat": 4,
 "nbformat_minor": 5
}
